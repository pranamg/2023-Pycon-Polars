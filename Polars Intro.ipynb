{
 "cells": [
  {
   "cell_type": "markdown",
   "metadata": {},
   "source": [
    "# Getting Started with Polars"
   ]
  },
  {
   "cell_type": "code",
   "execution_count": 57,
   "metadata": {},
   "outputs": [],
   "source": [
    "import numpy as np\n",
    "import polars as pl"
   ]
  },
  {
   "cell_type": "code",
   "execution_count": 58,
   "metadata": {},
   "outputs": [
    {
     "data": {
      "text/plain": [
       "'1.0.0'"
      ]
     },
     "execution_count": 58,
     "metadata": {},
     "output_type": "execute_result"
    }
   ],
   "source": [
    "pl.__version__"
   ]
  },
  {
   "cell_type": "code",
   "execution_count": 59,
   "metadata": {},
   "outputs": [
    {
     "name": "stdout",
     "output_type": "stream",
     "text": [
      "Requirement already satisfied: polars in /usr/local/python/3.10.13/lib/python3.10/site-packages (1.0.0)\n",
      "Note: you may need to restart the kernel to use updated packages.\n"
     ]
    }
   ],
   "source": [
    "pip install -U polars"
   ]
  },
  {
   "cell_type": "markdown",
   "metadata": {},
   "source": [
    "## Loading Data"
   ]
  },
  {
   "cell_type": "code",
   "execution_count": 60,
   "metadata": {},
   "outputs": [],
   "source": [
    "file = '__mharrison__2020-2021.csv'\n",
    "df = pl.read_csv(file) #, parse_dates=True)"
   ]
  },
  {
   "cell_type": "code",
   "execution_count": null,
   "metadata": {},
   "outputs": [],
   "source": [
    "# !wget  https://github.com/mattharrison/datasets/raw/master/data/__mharrison__2020-2021.csv"
   ]
  },
  {
   "cell_type": "code",
   "execution_count": 61,
   "metadata": {},
   "outputs": [
    {
     "name": "stdout",
     "output_type": "stream",
     "text": [
      "total 1752\n",
      "-rw-rw-rw- 1 codespace root   59218 Jul  6 09:17 'Polars Intro.ipynb'\n",
      "-rw-rw-rw- 1 codespace root     294 Jul  6 09:06  README.md\n",
      "-rw-rw-rw- 1 codespace root 1725101 Jul  6 09:06  __mharrison__2020-2021.csv\n"
     ]
    }
   ],
   "source": [
    "!ls -l"
   ]
  },
  {
   "cell_type": "code",
   "execution_count": 63,
   "metadata": {},
   "outputs": [],
   "source": [
    "url = 'https://github.com/mattharrison/datasets/raw/master/data/__mharrison__2020-2021.csv'\n",
    "df = pl.read_csv(url) #, parse_dates=True)"
   ]
  },
  {
   "cell_type": "code",
   "execution_count": 64,
   "metadata": {
    "scrolled": true
   },
   "outputs": [
    {
     "data": {
      "text/html": [
       "<div><style>\n",
       ".dataframe > thead > tr,\n",
       ".dataframe > tbody > tr {\n",
       "  text-align: right;\n",
       "  white-space: pre-wrap;\n",
       "}\n",
       "</style>\n",
       "<small>shape: (5_791, 40)</small><table border=\"1\" class=\"dataframe\"><thead><tr><th>Tweet id</th><th>Tweet permalink</th><th>Tweet text</th><th>time</th><th>impressions</th><th>engagements</th><th>engagement rate</th><th>retweets</th><th>replies</th><th>likes</th><th>user profile clicks</th><th>url clicks</th><th>hashtag clicks</th><th>detail expands</th><th>permalink clicks</th><th>app opens</th><th>app installs</th><th>follows</th><th>email tweet</th><th>dial phone</th><th>media views</th><th>media engagements</th><th>promoted impressions</th><th>promoted engagements</th><th>promoted engagement rate</th><th>promoted retweets</th><th>promoted replies</th><th>promoted likes</th><th>promoted user profile clicks</th><th>promoted url clicks</th><th>promoted hashtag clicks</th><th>promoted detail expands</th><th>promoted permalink clicks</th><th>promoted app opens</th><th>promoted app installs</th><th>promoted follows</th><th>promoted email tweet</th><th>promoted dial phone</th><th>promoted media views</th><th>promoted media engagements</th></tr><tr><td>i64</td><td>str</td><td>str</td><td>str</td><td>f64</td><td>f64</td><td>f64</td><td>f64</td><td>f64</td><td>f64</td><td>f64</td><td>f64</td><td>f64</td><td>f64</td><td>f64</td><td>i64</td><td>i64</td><td>i64</td><td>i64</td><td>i64</td><td>i64</td><td>i64</td><td>str</td><td>str</td><td>str</td><td>str</td><td>str</td><td>str</td><td>str</td><td>str</td><td>str</td><td>str</td><td>str</td><td>str</td><td>str</td><td>str</td><td>str</td><td>str</td><td>str</td><td>str</td></tr></thead><tbody><tr><td>1212580517905780737</td><td>&quot;https://twitter.com/__mharriso…</td><td>&quot;Sounds like a great topic! htt…</td><td>&quot;2020-01-02 03:44:00+00:00&quot;</td><td>1465.0</td><td>7.0</td><td>0.004778</td><td>0.0</td><td>0.0</td><td>3.0</td><td>3.0</td><td>0.0</td><td>0.0</td><td>1.0</td><td>0.0</td><td>0</td><td>0</td><td>0</td><td>0</td><td>0</td><td>0</td><td>0</td><td>null</td><td>null</td><td>null</td><td>null</td><td>null</td><td>null</td><td>null</td><td>null</td><td>null</td><td>null</td><td>null</td><td>null</td><td>null</td><td>null</td><td>null</td><td>null</td><td>null</td><td>null</td></tr><tr><td>1212582494828036097</td><td>&quot;https://twitter.com/__mharriso…</td><td>&quot;@FogleBird Looks like SLC. I c…</td><td>&quot;2020-01-02 03:52:00+00:00&quot;</td><td>154.0</td><td>3.0</td><td>0.019481</td><td>0.0</td><td>0.0</td><td>1.0</td><td>1.0</td><td>0.0</td><td>0.0</td><td>1.0</td><td>0.0</td><td>0</td><td>0</td><td>0</td><td>0</td><td>0</td><td>0</td><td>0</td><td>null</td><td>null</td><td>null</td><td>null</td><td>null</td><td>null</td><td>null</td><td>null</td><td>null</td><td>null</td><td>null</td><td>null</td><td>null</td><td>null</td><td>null</td><td>null</td><td>null</td><td>null</td></tr><tr><td>1212613735698690049</td><td>&quot;https://twitter.com/__mharriso…</td><td>&quot;@afilina That&#x27;s really amount …</td><td>&quot;2020-01-02 05:56:00+00:00&quot;</td><td>1024.0</td><td>6.0</td><td>0.005859</td><td>0.0</td><td>0.0</td><td>1.0</td><td>2.0</td><td>0.0</td><td>0.0</td><td>3.0</td><td>0.0</td><td>0</td><td>0</td><td>0</td><td>0</td><td>0</td><td>0</td><td>0</td><td>null</td><td>null</td><td>null</td><td>null</td><td>null</td><td>null</td><td>null</td><td>null</td><td>null</td><td>null</td><td>null</td><td>null</td><td>null</td><td>null</td><td>null</td><td>null</td><td>null</td><td>null</td></tr><tr><td>1212911749617242113</td><td>&quot;https://twitter.com/__mharriso…</td><td>&quot;@randal_olson I use anaconda w…</td><td>&quot;2020-01-03 01:41:00+00:00&quot;</td><td>1419.0</td><td>14.0</td><td>0.009866</td><td>0.0</td><td>1.0</td><td>5.0</td><td>7.0</td><td>0.0</td><td>0.0</td><td>1.0</td><td>0.0</td><td>0</td><td>0</td><td>0</td><td>0</td><td>0</td><td>0</td><td>0</td><td>null</td><td>null</td><td>null</td><td>null</td><td>null</td><td>null</td><td>null</td><td>null</td><td>null</td><td>null</td><td>null</td><td>null</td><td>null</td><td>null</td><td>null</td><td>null</td><td>null</td><td>null</td></tr><tr><td>1212920556028252160</td><td>&quot;https://twitter.com/__mharriso…</td><td>&quot;@AlSweigart Sometimes the stud…</td><td>&quot;2020-01-03 02:16:00+00:00&quot;</td><td>198.0</td><td>1.0</td><td>0.005051</td><td>0.0</td><td>0.0</td><td>1.0</td><td>0.0</td><td>0.0</td><td>0.0</td><td>0.0</td><td>0.0</td><td>0</td><td>0</td><td>0</td><td>0</td><td>0</td><td>0</td><td>0</td><td>null</td><td>null</td><td>null</td><td>null</td><td>null</td><td>null</td><td>null</td><td>null</td><td>null</td><td>null</td><td>null</td><td>null</td><td>null</td><td>null</td><td>null</td><td>null</td><td>null</td><td>null</td></tr><tr><td>&hellip;</td><td>&hellip;</td><td>&hellip;</td><td>&hellip;</td><td>&hellip;</td><td>&hellip;</td><td>&hellip;</td><td>&hellip;</td><td>&hellip;</td><td>&hellip;</td><td>&hellip;</td><td>&hellip;</td><td>&hellip;</td><td>&hellip;</td><td>&hellip;</td><td>&hellip;</td><td>&hellip;</td><td>&hellip;</td><td>&hellip;</td><td>&hellip;</td><td>&hellip;</td><td>&hellip;</td><td>&hellip;</td><td>&hellip;</td><td>&hellip;</td><td>&hellip;</td><td>&hellip;</td><td>&hellip;</td><td>&hellip;</td><td>&hellip;</td><td>&hellip;</td><td>&hellip;</td><td>&hellip;</td><td>&hellip;</td><td>&hellip;</td><td>&hellip;</td><td>&hellip;</td><td>&hellip;</td><td>&hellip;</td><td>&hellip;</td></tr><tr><td>1475300661851934721</td><td>&quot;https://twitter.com/__mharriso…</td><td>&quot;@allison_horst That&#x27;s awesome!&quot;</td><td>&quot;2021-12-27 03:01:00+00:00&quot;</td><td>986.0</td><td>1.0</td><td>0.001014</td><td>0.0</td><td>0.0</td><td>0.0</td><td>0.0</td><td>0.0</td><td>0.0</td><td>1.0</td><td>0.0</td><td>0</td><td>0</td><td>0</td><td>0</td><td>0</td><td>0</td><td>0</td><td>null</td><td>null</td><td>null</td><td>null</td><td>null</td><td>null</td><td>null</td><td>null</td><td>null</td><td>null</td><td>null</td><td>null</td><td>null</td><td>null</td><td>null</td><td>null</td><td>null</td><td>null</td></tr><tr><td>1475518143690801156</td><td>&quot;https://twitter.com/__mharriso…</td><td>&quot;@willmcgugan You need to find …</td><td>&quot;2021-12-27 17:25:00+00:00&quot;</td><td>1790.0</td><td>7.0</td><td>0.003911</td><td>0.0</td><td>0.0</td><td>3.0</td><td>1.0</td><td>0.0</td><td>0.0</td><td>3.0</td><td>0.0</td><td>0</td><td>0</td><td>0</td><td>0</td><td>0</td><td>0</td><td>0</td><td>null</td><td>null</td><td>null</td><td>null</td><td>null</td><td>null</td><td>null</td><td>null</td><td>null</td><td>null</td><td>null</td><td>null</td><td>null</td><td>null</td><td>null</td><td>null</td><td>null</td><td>null</td></tr><tr><td>1475891441243025408</td><td>&quot;https://twitter.com/__mharriso…</td><td>&quot;@posco Visiting Hawaii for the…</td><td>&quot;2021-12-28 18:08:00+00:00&quot;</td><td>1611.0</td><td>12.0</td><td>0.007449</td><td>0.0</td><td>0.0</td><td>4.0</td><td>4.0</td><td>0.0</td><td>0.0</td><td>4.0</td><td>0.0</td><td>0</td><td>0</td><td>0</td><td>0</td><td>0</td><td>0</td><td>0</td><td>null</td><td>null</td><td>null</td><td>null</td><td>null</td><td>null</td><td>null</td><td>null</td><td>null</td><td>null</td><td>null</td><td>null</td><td>null</td><td>null</td><td>null</td><td>null</td><td>null</td><td>null</td></tr><tr><td>1476453819751878656</td><td>&quot;https://twitter.com/__mharriso…</td><td>&quot;@johndsaunders My son just bui…</td><td>&quot;2021-12-30 07:23:00+00:00&quot;</td><td>1354.0</td><td>8.0</td><td>0.005908</td><td>0.0</td><td>0.0</td><td>2.0</td><td>4.0</td><td>0.0</td><td>0.0</td><td>2.0</td><td>0.0</td><td>0</td><td>0</td><td>0</td><td>0</td><td>0</td><td>0</td><td>0</td><td>null</td><td>null</td><td>null</td><td>null</td><td>null</td><td>null</td><td>null</td><td>null</td><td>null</td><td>null</td><td>null</td><td>null</td><td>null</td><td>null</td><td>null</td><td>null</td><td>null</td><td>null</td></tr><tr><td>1477024722051158018</td><td>&quot;https://twitter.com/__mharriso…</td><td>&quot;@tunguz Xgboost&quot;</td><td>&quot;2021-12-31 21:11:00+00:00&quot;</td><td>5041.0</td><td>63.0</td><td>0.012498</td><td>0.0</td><td>3.0</td><td>23.0</td><td>8.0</td><td>0.0</td><td>0.0</td><td>29.0</td><td>0.0</td><td>0</td><td>0</td><td>0</td><td>0</td><td>0</td><td>0</td><td>0</td><td>null</td><td>null</td><td>null</td><td>null</td><td>null</td><td>null</td><td>null</td><td>null</td><td>null</td><td>null</td><td>null</td><td>null</td><td>null</td><td>null</td><td>null</td><td>null</td><td>null</td><td>null</td></tr></tbody></table></div>"
      ],
      "text/plain": [
       "shape: (5_791, 40)\n",
       "┌───────────┬───────────┬───────────┬───────────┬───┬───────────┬───────────┬───────────┬──────────┐\n",
       "│ Tweet id  ┆ Tweet     ┆ Tweet     ┆ time      ┆ … ┆ promoted  ┆ promoted  ┆ promoted  ┆ promoted │\n",
       "│ ---       ┆ permalink ┆ text      ┆ ---       ┆   ┆ email     ┆ dial      ┆ media     ┆ media    │\n",
       "│ i64       ┆ ---       ┆ ---       ┆ str       ┆   ┆ tweet     ┆ phone     ┆ views     ┆ engageme │\n",
       "│           ┆ str       ┆ str       ┆           ┆   ┆ ---       ┆ ---       ┆ ---       ┆ nts      │\n",
       "│           ┆           ┆           ┆           ┆   ┆ str       ┆ str       ┆ str       ┆ ---      │\n",
       "│           ┆           ┆           ┆           ┆   ┆           ┆           ┆           ┆ str      │\n",
       "╞═══════════╪═══════════╪═══════════╪═══════════╪═══╪═══════════╪═══════════╪═══════════╪══════════╡\n",
       "│ 121258051 ┆ https://t ┆ Sounds    ┆ 2020-01-0 ┆ … ┆ null      ┆ null      ┆ null      ┆ null     │\n",
       "│ 790578073 ┆ witter.co ┆ like a    ┆ 2 03:44:0 ┆   ┆           ┆           ┆           ┆          │\n",
       "│ 7         ┆ m/__mharr ┆ great     ┆ 0+00:00   ┆   ┆           ┆           ┆           ┆          │\n",
       "│           ┆ iso…      ┆ topic!    ┆           ┆   ┆           ┆           ┆           ┆          │\n",
       "│           ┆           ┆ htt…      ┆           ┆   ┆           ┆           ┆           ┆          │\n",
       "│ 121258249 ┆ https://t ┆ @FogleBir ┆ 2020-01-0 ┆ … ┆ null      ┆ null      ┆ null      ┆ null     │\n",
       "│ 482803609 ┆ witter.co ┆ d Looks   ┆ 2 03:52:0 ┆   ┆           ┆           ┆           ┆          │\n",
       "│ 7         ┆ m/__mharr ┆ like SLC. ┆ 0+00:00   ┆   ┆           ┆           ┆           ┆          │\n",
       "│           ┆ iso…      ┆ I c…      ┆           ┆   ┆           ┆           ┆           ┆          │\n",
       "│ 121261373 ┆ https://t ┆ @afilina  ┆ 2020-01-0 ┆ … ┆ null      ┆ null      ┆ null      ┆ null     │\n",
       "│ 569869004 ┆ witter.co ┆ That's    ┆ 2 05:56:0 ┆   ┆           ┆           ┆           ┆          │\n",
       "│ 9         ┆ m/__mharr ┆ really    ┆ 0+00:00   ┆   ┆           ┆           ┆           ┆          │\n",
       "│           ┆ iso…      ┆ amount …  ┆           ┆   ┆           ┆           ┆           ┆          │\n",
       "│ 121291174 ┆ https://t ┆ @randal_o ┆ 2020-01-0 ┆ … ┆ null      ┆ null      ┆ null      ┆ null     │\n",
       "│ 961724211 ┆ witter.co ┆ lson I    ┆ 3 01:41:0 ┆   ┆           ┆           ┆           ┆          │\n",
       "│ 3         ┆ m/__mharr ┆ use       ┆ 0+00:00   ┆   ┆           ┆           ┆           ┆          │\n",
       "│           ┆ iso…      ┆ anaconda  ┆           ┆   ┆           ┆           ┆           ┆          │\n",
       "│           ┆           ┆ w…        ┆           ┆   ┆           ┆           ┆           ┆          │\n",
       "│ 121292055 ┆ https://t ┆ @AlSweiga ┆ 2020-01-0 ┆ … ┆ null      ┆ null      ┆ null      ┆ null     │\n",
       "│ 602825216 ┆ witter.co ┆ rt        ┆ 3 02:16:0 ┆   ┆           ┆           ┆           ┆          │\n",
       "│ 0         ┆ m/__mharr ┆ Sometimes ┆ 0+00:00   ┆   ┆           ┆           ┆           ┆          │\n",
       "│           ┆ iso…      ┆ the stud… ┆           ┆   ┆           ┆           ┆           ┆          │\n",
       "│ …         ┆ …         ┆ …         ┆ …         ┆ … ┆ …         ┆ …         ┆ …         ┆ …        │\n",
       "│ 147530066 ┆ https://t ┆ @allison_ ┆ 2021-12-2 ┆ … ┆ null      ┆ null      ┆ null      ┆ null     │\n",
       "│ 185193472 ┆ witter.co ┆ horst     ┆ 7 03:01:0 ┆   ┆           ┆           ┆           ┆          │\n",
       "│ 1         ┆ m/__mharr ┆ That's    ┆ 0+00:00   ┆   ┆           ┆           ┆           ┆          │\n",
       "│           ┆ iso…      ┆ awesome!  ┆           ┆   ┆           ┆           ┆           ┆          │\n",
       "│ 147551814 ┆ https://t ┆ @willmcgu ┆ 2021-12-2 ┆ … ┆ null      ┆ null      ┆ null      ┆ null     │\n",
       "│ 369080115 ┆ witter.co ┆ gan You   ┆ 7 17:25:0 ┆   ┆           ┆           ┆           ┆          │\n",
       "│ 6         ┆ m/__mharr ┆ need to   ┆ 0+00:00   ┆   ┆           ┆           ┆           ┆          │\n",
       "│           ┆ iso…      ┆ find …    ┆           ┆   ┆           ┆           ┆           ┆          │\n",
       "│ 147589144 ┆ https://t ┆ @posco    ┆ 2021-12-2 ┆ … ┆ null      ┆ null      ┆ null      ┆ null     │\n",
       "│ 124302540 ┆ witter.co ┆ Visiting  ┆ 8 18:08:0 ┆   ┆           ┆           ┆           ┆          │\n",
       "│ 8         ┆ m/__mharr ┆ Hawaii    ┆ 0+00:00   ┆   ┆           ┆           ┆           ┆          │\n",
       "│           ┆ iso…      ┆ for the…  ┆           ┆   ┆           ┆           ┆           ┆          │\n",
       "│ 147645381 ┆ https://t ┆ @johndsau ┆ 2021-12-3 ┆ … ┆ null      ┆ null      ┆ null      ┆ null     │\n",
       "│ 975187865 ┆ witter.co ┆ nders My  ┆ 0 07:23:0 ┆   ┆           ┆           ┆           ┆          │\n",
       "│ 6         ┆ m/__mharr ┆ son just  ┆ 0+00:00   ┆   ┆           ┆           ┆           ┆          │\n",
       "│           ┆ iso…      ┆ bui…      ┆           ┆   ┆           ┆           ┆           ┆          │\n",
       "│ 147702472 ┆ https://t ┆ @tunguz   ┆ 2021-12-3 ┆ … ┆ null      ┆ null      ┆ null      ┆ null     │\n",
       "│ 205115801 ┆ witter.co ┆ Xgboost   ┆ 1 21:11:0 ┆   ┆           ┆           ┆           ┆          │\n",
       "│ 8         ┆ m/__mharr ┆           ┆ 0+00:00   ┆   ┆           ┆           ┆           ┆          │\n",
       "│           ┆ iso…      ┆           ┆           ┆   ┆           ┆           ┆           ┆          │\n",
       "└───────────┴───────────┴───────────┴───────────┴───┴───────────┴───────────┴───────────┴──────────┘"
      ]
     },
     "execution_count": 64,
     "metadata": {},
     "output_type": "execute_result"
    }
   ],
   "source": [
    "df"
   ]
  },
  {
   "cell_type": "code",
   "execution_count": 65,
   "metadata": {},
   "outputs": [
    {
     "name": "stdout",
     "output_type": "stream",
     "text": [
      "['Array', 'Binary', 'Boolean', 'Categorical', 'Config', 'DataFrame', 'DataType', 'Date', 'Datetime', 'Decimal', 'Duration', 'Enum', 'Expr', 'Field', 'Float32', 'Float64', 'Int16', 'Int32', 'Int64', 'Int8', 'LazyFrame', 'List', 'Null', 'Object', 'SQLContext', 'Schema', 'Series', 'String', 'StringCache', 'Struct', 'Time', 'UInt16', 'UInt32', 'UInt64', 'UInt8', 'Unknown', 'Utf8', '__all__', '__annotations__', '__builtins__', '__cached__', '__doc__', '__file__', '__getattr__', '__loader__', '__name__', '__package__', '__path__', '__register_startup_deps', '__spec__', '__version__', '_cpu_check', '_reexport', '_typing', '_utils', 'align_frames', 'all', 'all_horizontal', 'any', 'any_horizontal', 'api', 'approx_n_unique', 'arange', 'arctan2', 'arctan2d', 'arg_sort_by', 'arg_where', 'build_info', 'business_day_count', 'coalesce', 'col', 'collect_all', 'collect_all_async', 'concat', 'concat_list', 'concat_str', 'config', 'contextlib', 'convert', 'corr', 'count', 'cov', 'cum_count', 'cum_fold', 'cum_reduce', 'cum_sum', 'cum_sum_horizontal', 'dataframe', 'datatypes', 'date', 'date_range', 'date_ranges', 'datetime', 'datetime_range', 'datetime_ranges', 'dependencies', 'disable_string_cache', 'duration', 'element', 'enable_string_cache', 'exceptions', 'exclude', 'expr', 'field', 'first', 'fold', 'format', 'from_arrow', 'from_dataframe', 'from_dict', 'from_dicts', 'from_epoch', 'from_numpy', 'from_pandas', 'from_records', 'from_repr', 'functions', 'get_index_type', 'groups', 'head', 'implode', 'int_range', 'int_ranges', 'io', 'json_normalize', 'last', 'lazyframe', 'len', 'lit', 'map_batches', 'map_groups', 'max', 'max_horizontal', 'mean', 'mean_horizontal', 'median', 'meta', 'min', 'min_horizontal', 'n_unique', 'nth', 'ones', 'plugins', 'polars', 'quantile', 'read_avro', 'read_clipboard', 'read_csv', 'read_csv_batched', 'read_database', 'read_database_uri', 'read_delta', 'read_excel', 'read_ipc', 'read_ipc_schema', 'read_ipc_stream', 'read_json', 'read_ndjson', 'read_ods', 'read_parquet', 'read_parquet_schema', 'reduce', 'repeat', 'rolling_corr', 'rolling_cov', 'scan_csv', 'scan_delta', 'scan_iceberg', 'scan_ipc', 'scan_ndjson', 'scan_parquet', 'scan_pyarrow_dataset', 'schema', 'select', 'selectors', 'series', 'set_random_seed', 'show_versions', 'sql', 'sql_expr', 'std', 'string_cache', 'struct', 'sum', 'sum_horizontal', 'tail', 'thread_pool_size', 'threadpool_size', 'time', 'time_range', 'time_ranges', 'using_string_cache', 'var', 'when', 'wrap_df', 'wrap_s', 'zeros']\n"
     ]
    }
   ],
   "source": [
    "print(dir(pl))"
   ]
  },
  {
   "cell_type": "code",
   "execution_count": 66,
   "metadata": {},
   "outputs": [
    {
     "name": "stdout",
     "output_type": "stream",
     "text": [
      "['__add__', '__annotations__', '__array__', '__bool__', '__class__', '__contains__', '__copy__', '__dataframe__', '__deepcopy__', '__delattr__', '__dict__', '__dir__', '__doc__', '__eq__', '__floordiv__', '__format__', '__ge__', '__getattribute__', '__getitem__', '__getstate__', '__gt__', '__hash__', '__init__', '__init_subclass__', '__iter__', '__le__', '__len__', '__lt__', '__mod__', '__module__', '__mul__', '__ne__', '__new__', '__radd__', '__reduce__', '__reduce_ex__', '__repr__', '__reversed__', '__rmul__', '__setattr__', '__setitem__', '__setstate__', '__sizeof__', '__str__', '__sub__', '__subclasshook__', '__truediv__', '__weakref__', '_accessors', '_cast_all_from_to', '_comp', '_compare_to_non_df', '_compare_to_other_df', '_df', '_div', '_from_arrow', '_from_pandas', '_from_pydf', '_ipython_key_completions_', '_replace', '_repr_html_', '_to_pandas_with_object_columns', '_to_pandas_without_object_columns', 'approx_n_unique', 'bottom_k', 'cast', 'clear', 'clone', 'collect_schema', 'columns', 'corr', 'count', 'describe', 'deserialize', 'drop', 'drop_in_place', 'drop_nulls', 'dtypes', 'equals', 'estimated_size', 'explode', 'extend', 'fill_nan', 'fill_null', 'filter', 'flags', 'fold', 'gather_every', 'get_column', 'get_column_index', 'get_columns', 'glimpse', 'group_by', 'group_by_dynamic', 'hash_rows', 'head', 'height', 'hstack', 'insert_column', 'interpolate', 'is_duplicated', 'is_empty', 'is_unique', 'item', 'iter_columns', 'iter_rows', 'iter_slices', 'join', 'join_asof', 'lazy', 'limit', 'map_rows', 'max', 'max_horizontal', 'mean', 'mean_horizontal', 'median', 'melt', 'merge_sorted', 'min', 'min_horizontal', 'n_chunks', 'n_unique', 'null_count', 'partition_by', 'pipe', 'pivot', 'plot', 'product', 'quantile', 'rechunk', 'rename', 'replace_column', 'reverse', 'rolling', 'row', 'rows', 'rows_by_key', 'sample', 'schema', 'select', 'select_seq', 'serialize', 'set_sorted', 'shape', 'shift', 'shrink_to_fit', 'slice', 'sort', 'sql', 'std', 'style', 'sum', 'sum_horizontal', 'tail', 'to_arrow', 'to_dict', 'to_dicts', 'to_dummies', 'to_init_repr', 'to_jax', 'to_numpy', 'to_pandas', 'to_series', 'to_struct', 'to_torch', 'top_k', 'transpose', 'unique', 'unnest', 'unpivot', 'unstack', 'update', 'upsample', 'var', 'vstack', 'width', 'with_columns', 'with_columns_seq', 'with_row_count', 'with_row_index', 'write_avro', 'write_clipboard', 'write_csv', 'write_database', 'write_delta', 'write_excel', 'write_ipc', 'write_ipc_stream', 'write_json', 'write_ndjson', 'write_parquet']\n"
     ]
    }
   ],
   "source": [
    "print(dir(df))"
   ]
  },
  {
   "cell_type": "code",
   "execution_count": 67,
   "metadata": {},
   "outputs": [
    {
     "name": "stdout",
     "output_type": "stream",
     "text": [
      "['__abs__', '__add__', '__and__', '__annotations__', '__array_ufunc__', '__bool__', '__class__', '__delattr__', '__dict__', '__dir__', '__doc__', '__eq__', '__floordiv__', '__format__', '__ge__', '__getattribute__', '__getstate__', '__gt__', '__hash__', '__init__', '__init_subclass__', '__invert__', '__le__', '__lt__', '__mod__', '__module__', '__mul__', '__ne__', '__neg__', '__new__', '__or__', '__pos__', '__pow__', '__radd__', '__rand__', '__reduce__', '__reduce_ex__', '__repr__', '__rfloordiv__', '__rmod__', '__rmul__', '__ror__', '__rpow__', '__rsub__', '__rtruediv__', '__rxor__', '__setattr__', '__setstate__', '__sizeof__', '__str__', '__sub__', '__subclasshook__', '__truediv__', '__weakref__', '__xor__', '_accessors', '_from_pyexpr', '_map_batches_wrapper', '_pyexpr', '_repr_html_', 'abs', 'add', 'agg_groups', 'alias', 'all', 'and_', 'any', 'append', 'approx_n_unique', 'arccos', 'arccosh', 'arcsin', 'arcsinh', 'arctan', 'arctanh', 'arg_max', 'arg_min', 'arg_sort', 'arg_true', 'arg_unique', 'arr', 'backward_fill', 'bin', 'bottom_k', 'bottom_k_by', 'cast', 'cat', 'cbrt', 'ceil', 'clip', 'cos', 'cosh', 'cot', 'count', 'cum_count', 'cum_max', 'cum_min', 'cum_prod', 'cum_sum', 'cumulative_eval', 'cut', 'degrees', 'deserialize', 'diff', 'dot', 'drop_nans', 'drop_nulls', 'dt', 'entropy', 'eq', 'eq_missing', 'ewm_mean', 'ewm_mean_by', 'ewm_std', 'ewm_var', 'exclude', 'exp', 'explode', 'extend_constant', 'fill_nan', 'fill_null', 'filter', 'first', 'flatten', 'floor', 'floordiv', 'forward_fill', 'from_json', 'gather', 'gather_every', 'ge', 'get', 'gt', 'has_nulls', 'hash', 'head', 'hist', 'implode', 'inspect', 'interpolate', 'interpolate_by', 'is_between', 'is_duplicated', 'is_finite', 'is_first_distinct', 'is_in', 'is_infinite', 'is_last_distinct', 'is_nan', 'is_not_nan', 'is_not_null', 'is_null', 'is_unique', 'kurtosis', 'last', 'le', 'len', 'limit', 'list', 'log', 'log10', 'log1p', 'lower_bound', 'lt', 'map_batches', 'map_elements', 'max', 'mean', 'median', 'meta', 'min', 'mod', 'mode', 'mul', 'n_unique', 'name', 'nan_max', 'nan_min', 'ne', 'ne_missing', 'neg', 'not_', 'null_count', 'or_', 'over', 'pct_change', 'peak_max', 'peak_min', 'pipe', 'pow', 'product', 'qcut', 'quantile', 'radians', 'rank', 'rechunk', 'register_plugin', 'reinterpret', 'repeat_by', 'replace', 'replace_strict', 'reshape', 'reverse', 'rle', 'rle_id', 'rolling', 'rolling_map', 'rolling_max', 'rolling_max_by', 'rolling_mean', 'rolling_mean_by', 'rolling_median', 'rolling_median_by', 'rolling_min', 'rolling_min_by', 'rolling_quantile', 'rolling_quantile_by', 'rolling_skew', 'rolling_std', 'rolling_std_by', 'rolling_sum', 'rolling_sum_by', 'rolling_var', 'rolling_var_by', 'round', 'round_sig_figs', 'sample', 'search_sorted', 'set_sorted', 'shift', 'shrink_dtype', 'shuffle', 'sign', 'sin', 'sinh', 'skew', 'slice', 'sort', 'sort_by', 'sqrt', 'std', 'str', 'struct', 'sub', 'sum', 'tail', 'tan', 'tanh', 'to_physical', 'top_k', 'top_k_by', 'truediv', 'unique', 'unique_counts', 'upper_bound', 'value_counts', 'var', 'where', 'xor']\n"
     ]
    }
   ],
   "source": [
    "print(dir(pl.col('foo')))"
   ]
  },
  {
   "cell_type": "markdown",
   "metadata": {},
   "source": [
    "## Exploring"
   ]
  },
  {
   "cell_type": "code",
   "execution_count": 68,
   "metadata": {
    "scrolled": false
   },
   "outputs": [],
   "source": [
    "# no index\n",
    "# df.index"
   ]
  },
  {
   "cell_type": "code",
   "execution_count": 69,
   "metadata": {
    "scrolled": true
   },
   "outputs": [
    {
     "data": {
      "text/plain": [
       "['Tweet id',\n",
       " 'Tweet permalink',\n",
       " 'Tweet text',\n",
       " 'time',\n",
       " 'impressions',\n",
       " 'engagements',\n",
       " 'engagement rate',\n",
       " 'retweets',\n",
       " 'replies',\n",
       " 'likes',\n",
       " 'user profile clicks',\n",
       " 'url clicks',\n",
       " 'hashtag clicks',\n",
       " 'detail expands',\n",
       " 'permalink clicks',\n",
       " 'app opens',\n",
       " 'app installs',\n",
       " 'follows',\n",
       " 'email tweet',\n",
       " 'dial phone',\n",
       " 'media views',\n",
       " 'media engagements',\n",
       " 'promoted impressions',\n",
       " 'promoted engagements',\n",
       " 'promoted engagement rate',\n",
       " 'promoted retweets',\n",
       " 'promoted replies',\n",
       " 'promoted likes',\n",
       " 'promoted user profile clicks',\n",
       " 'promoted url clicks',\n",
       " 'promoted hashtag clicks',\n",
       " 'promoted detail expands',\n",
       " 'promoted permalink clicks',\n",
       " 'promoted app opens',\n",
       " 'promoted app installs',\n",
       " 'promoted follows',\n",
       " 'promoted email tweet',\n",
       " 'promoted dial phone',\n",
       " 'promoted media views',\n",
       " 'promoted media engagements']"
      ]
     },
     "execution_count": 69,
     "metadata": {},
     "output_type": "execute_result"
    }
   ],
   "source": [
    "df.columns"
   ]
  },
  {
   "cell_type": "code",
   "execution_count": 70,
   "metadata": {
    "scrolled": true
   },
   "outputs": [
    {
     "data": {
      "text/html": [
       "<div><style>\n",
       ".dataframe > thead > tr,\n",
       ".dataframe > tbody > tr {\n",
       "  text-align: right;\n",
       "  white-space: pre-wrap;\n",
       "}\n",
       "</style>\n",
       "<small>shape: (40, 20)</small><table border=\"1\" class=\"dataframe\"><thead><tr><th>column_0</th><th>column_1</th><th>column_2</th><th>column_3</th><th>column_4</th><th>column_5</th><th>column_6</th><th>column_7</th><th>column_8</th><th>column_9</th><th>column_10</th><th>column_11</th><th>column_12</th><th>column_13</th><th>column_14</th><th>column_15</th><th>column_16</th><th>column_17</th><th>column_18</th><th>column_19</th></tr><tr><td>str</td><td>str</td><td>str</td><td>str</td><td>str</td><td>str</td><td>str</td><td>str</td><td>str</td><td>str</td><td>str</td><td>str</td><td>str</td><td>str</td><td>str</td><td>str</td><td>str</td><td>str</td><td>str</td><td>str</td></tr></thead><tbody><tr><td>&quot;1458289050859683843&quot;</td><td>&quot;1250482932428333056&quot;</td><td>&quot;1344522745887952896&quot;</td><td>&quot;1256005037211258880&quot;</td><td>&quot;1302286297831096321&quot;</td><td>&quot;1374062232099725315&quot;</td><td>&quot;1440642091973963780&quot;</td><td>&quot;1406047348044668928&quot;</td><td>&quot;1330936958055374849&quot;</td><td>&quot;1431313398134820865&quot;</td><td>&quot;1407697295479513090&quot;</td><td>&quot;1374917129661673474&quot;</td><td>&quot;1257115051204284419&quot;</td><td>&quot;1298659037995663360&quot;</td><td>&quot;1311050055957098496&quot;</td><td>&quot;1442630944079298564&quot;</td><td>&quot;1356824477020024833&quot;</td><td>&quot;1417874144977330176&quot;</td><td>&quot;1293911205023645697&quot;</td><td>&quot;1335294067895279616&quot;</td></tr><tr><td>&quot;https://twitter.com/__mharriso…</td><td>&quot;https://twitter.com/__mharriso…</td><td>&quot;https://twitter.com/__mharriso…</td><td>&quot;https://twitter.com/__mharriso…</td><td>&quot;https://twitter.com/__mharriso…</td><td>&quot;https://twitter.com/__mharriso…</td><td>&quot;https://twitter.com/__mharriso…</td><td>&quot;https://twitter.com/__mharriso…</td><td>&quot;https://twitter.com/__mharriso…</td><td>&quot;https://twitter.com/__mharriso…</td><td>&quot;https://twitter.com/__mharriso…</td><td>&quot;https://twitter.com/__mharriso…</td><td>&quot;https://twitter.com/__mharriso…</td><td>&quot;https://twitter.com/__mharriso…</td><td>&quot;https://twitter.com/__mharriso…</td><td>&quot;https://twitter.com/__mharriso…</td><td>&quot;https://twitter.com/__mharriso…</td><td>&quot;https://twitter.com/__mharriso…</td><td>&quot;https://twitter.com/__mharriso…</td><td>&quot;https://twitter.com/__mharriso…</td></tr><tr><td>&quot;@TheZachMueller You are giving…</td><td>&quot;If you are new to Python and h…</td><td>&quot;@svpino Hence my courses in Py…</td><td>&quot;@markimbriaco I assume the mac…</td><td>&quot;@dabeaz You can run OBS (if yo…</td><td>&quot;@ChrisHeidorn @dvassallo My ba…</td><td>&quot;The second rule of machine lea…</td><td>&quot;@Xxstop9 What sort of comments…</td><td>&quot;@sysop408 @CreativGriffin Than…</td><td>&quot;@jakevdp Don&#x27;t leave us hangin…</td><td>&quot;@joshtified_ @svpino They are …</td><td>&quot;@alfcnz @svpino I also have an…</td><td>&quot;@jsmith @gabegundy @herlo @uta…</td><td>&quot;@dataandme @csdoctorsister Wha…</td><td>&quot;Apparently, I&#x27;m in an underrep…</td><td>&quot;@svpino I&#x27;m teaching a course …</td><td>&quot;@avalonstar I&#x27;m sorry. I&#x27;d be …</td><td>&quot;@rustydigg918 @burkov @aakashn…</td><td>&quot;@MansenPansen Yep, there are a…</td><td>&quot;*and have given consent to be …</td></tr><tr><td>&quot;2021-11-10 04:22:00+00:00&quot;</td><td>&quot;2020-04-15 17:55:00+00:00&quot;</td><td>&quot;2020-12-31 05:56:00+00:00&quot;</td><td>&quot;2020-04-30 23:38:00+00:00&quot;</td><td>&quot;2020-09-05 16:43:00+00:00&quot;</td><td>&quot;2021-03-22 18:15:00+00:00&quot;</td><td>&quot;2021-09-22 11:40:00+00:00&quot;</td><td>&quot;2021-06-19 00:33:00+00:00&quot;</td><td>&quot;2020-11-23 18:11:00+00:00&quot;</td><td>&quot;2021-08-27 17:51:00+00:00&quot;</td><td>&quot;2021-06-23 13:49:00+00:00&quot;</td><td>&quot;2021-03-25 02:52:00+00:00&quot;</td><td>&quot;2020-05-04 01:09:00+00:00&quot;</td><td>&quot;2020-08-26 16:30:00+00:00&quot;</td><td>&quot;2020-09-29 21:07:00+00:00&quot;</td><td>&quot;2021-09-27 23:23:00+00:00&quot;</td><td>&quot;2021-02-03 04:38:00+00:00&quot;</td><td>&quot;2021-07-21 15:48:00+00:00&quot;</td><td>&quot;2020-08-13 14:04:00+00:00&quot;</td><td>&quot;2020-12-05 18:44:00+00:00&quot;</td></tr><tr><td>&quot;76.0&quot;</td><td>&quot;1078.0&quot;</td><td>&quot;606.0&quot;</td><td>&quot;1342.0&quot;</td><td>&quot;414.0&quot;</td><td>&quot;140.0&quot;</td><td>&quot;9280.0&quot;</td><td>&quot;301.0&quot;</td><td>&quot;40.0&quot;</td><td>&quot;5010.0&quot;</td><td>&quot;47.0&quot;</td><td>&quot;716.0&quot;</td><td>&quot;29.0&quot;</td><td>&quot;288.0&quot;</td><td>&quot;1840.0&quot;</td><td>&quot;6519.0&quot;</td><td>&quot;423.0&quot;</td><td>&quot;1833.0&quot;</td><td>&quot;70.0&quot;</td><td>&quot;892.0&quot;</td></tr><tr><td>&hellip;</td><td>&hellip;</td><td>&hellip;</td><td>&hellip;</td><td>&hellip;</td><td>&hellip;</td><td>&hellip;</td><td>&hellip;</td><td>&hellip;</td><td>&hellip;</td><td>&hellip;</td><td>&hellip;</td><td>&hellip;</td><td>&hellip;</td><td>&hellip;</td><td>&hellip;</td><td>&hellip;</td><td>&hellip;</td><td>&hellip;</td><td>&hellip;</td></tr><tr><td>null</td><td>null</td><td>null</td><td>null</td><td>null</td><td>null</td><td>null</td><td>null</td><td>null</td><td>null</td><td>null</td><td>null</td><td>null</td><td>null</td><td>null</td><td>null</td><td>null</td><td>null</td><td>null</td><td>null</td></tr><tr><td>null</td><td>null</td><td>null</td><td>null</td><td>null</td><td>null</td><td>null</td><td>null</td><td>null</td><td>null</td><td>null</td><td>null</td><td>null</td><td>null</td><td>null</td><td>null</td><td>null</td><td>null</td><td>null</td><td>null</td></tr><tr><td>null</td><td>null</td><td>null</td><td>null</td><td>null</td><td>null</td><td>null</td><td>null</td><td>null</td><td>null</td><td>null</td><td>null</td><td>null</td><td>null</td><td>null</td><td>null</td><td>null</td><td>null</td><td>null</td><td>null</td></tr><tr><td>null</td><td>null</td><td>null</td><td>null</td><td>null</td><td>null</td><td>null</td><td>null</td><td>null</td><td>null</td><td>null</td><td>null</td><td>null</td><td>null</td><td>null</td><td>null</td><td>null</td><td>null</td><td>null</td><td>null</td></tr><tr><td>null</td><td>null</td><td>null</td><td>null</td><td>null</td><td>null</td><td>null</td><td>null</td><td>null</td><td>null</td><td>null</td><td>null</td><td>null</td><td>null</td><td>null</td><td>null</td><td>null</td><td>null</td><td>null</td><td>null</td></tr></tbody></table></div>"
      ],
      "text/plain": [
       "shape: (40, 20)\n",
       "┌───────────┬───────────┬───────────┬───────────┬───┬───────────┬───────────┬───────────┬──────────┐\n",
       "│ column_0  ┆ column_1  ┆ column_2  ┆ column_3  ┆ … ┆ column_16 ┆ column_17 ┆ column_18 ┆ column_1 │\n",
       "│ ---       ┆ ---       ┆ ---       ┆ ---       ┆   ┆ ---       ┆ ---       ┆ ---       ┆ 9        │\n",
       "│ str       ┆ str       ┆ str       ┆ str       ┆   ┆ str       ┆ str       ┆ str       ┆ ---      │\n",
       "│           ┆           ┆           ┆           ┆   ┆           ┆           ┆           ┆ str      │\n",
       "╞═══════════╪═══════════╪═══════════╪═══════════╪═══╪═══════════╪═══════════╪═══════════╪══════════╡\n",
       "│ 145828905 ┆ 125048293 ┆ 134452274 ┆ 125600503 ┆ … ┆ 135682447 ┆ 141787414 ┆ 129391120 ┆ 13352940 │\n",
       "│ 085968384 ┆ 242833305 ┆ 588795289 ┆ 721125888 ┆   ┆ 702002483 ┆ 497733017 ┆ 502364569 ┆ 67895279 │\n",
       "│ 3         ┆ 6         ┆ 6         ┆ 0         ┆   ┆ 3         ┆ 6         ┆ 7         ┆ 616      │\n",
       "│ https://t ┆ https://t ┆ https://t ┆ https://t ┆ … ┆ https://t ┆ https://t ┆ https://t ┆ https:// │\n",
       "│ witter.co ┆ witter.co ┆ witter.co ┆ witter.co ┆   ┆ witter.co ┆ witter.co ┆ witter.co ┆ twitter. │\n",
       "│ m/__mharr ┆ m/__mharr ┆ m/__mharr ┆ m/__mharr ┆   ┆ m/__mharr ┆ m/__mharr ┆ m/__mharr ┆ com/__mh │\n",
       "│ iso…      ┆ iso…      ┆ iso…      ┆ iso…      ┆   ┆ iso…      ┆ iso…      ┆ iso…      ┆ arriso…  │\n",
       "│ @TheZachM ┆ If you    ┆ @svpino   ┆ @markimbr ┆ … ┆ @avalonst ┆ @rustydig ┆ @MansenPa ┆ *and     │\n",
       "│ ueller    ┆ are new   ┆ Hence my  ┆ iaco I    ┆   ┆ ar I'm    ┆ g918      ┆ nsen Yep, ┆ have     │\n",
       "│ You are   ┆ to Python ┆ courses   ┆ assume    ┆   ┆ sorry.    ┆ @burkov   ┆ there are ┆ given    │\n",
       "│ giving…   ┆ and h…    ┆ in Py…    ┆ the mac…  ┆   ┆ I'd be …  ┆ @aakashn… ┆ a…        ┆ consent  │\n",
       "│           ┆           ┆           ┆           ┆   ┆           ┆           ┆           ┆ to be …  │\n",
       "│ 2021-11-1 ┆ 2020-04-1 ┆ 2020-12-3 ┆ 2020-04-3 ┆ … ┆ 2021-02-0 ┆ 2021-07-2 ┆ 2020-08-1 ┆ 2020-12- │\n",
       "│ 0 04:22:0 ┆ 5 17:55:0 ┆ 1 05:56:0 ┆ 0 23:38:0 ┆   ┆ 3 04:38:0 ┆ 1 15:48:0 ┆ 3 14:04:0 ┆ 05 18:44 │\n",
       "│ 0+00:00   ┆ 0+00:00   ┆ 0+00:00   ┆ 0+00:00   ┆   ┆ 0+00:00   ┆ 0+00:00   ┆ 0+00:00   ┆ :00+00:0 │\n",
       "│           ┆           ┆           ┆           ┆   ┆           ┆           ┆           ┆ 0        │\n",
       "│ 76.0      ┆ 1078.0    ┆ 606.0     ┆ 1342.0    ┆ … ┆ 423.0     ┆ 1833.0    ┆ 70.0      ┆ 892.0    │\n",
       "│ …         ┆ …         ┆ …         ┆ …         ┆ … ┆ …         ┆ …         ┆ …         ┆ …        │\n",
       "│ null      ┆ null      ┆ null      ┆ null      ┆ … ┆ null      ┆ null      ┆ null      ┆ null     │\n",
       "│ null      ┆ null      ┆ null      ┆ null      ┆ … ┆ null      ┆ null      ┆ null      ┆ null     │\n",
       "│ null      ┆ null      ┆ null      ┆ null      ┆ … ┆ null      ┆ null      ┆ null      ┆ null     │\n",
       "│ null      ┆ null      ┆ null      ┆ null      ┆ … ┆ null      ┆ null      ┆ null      ┆ null     │\n",
       "│ null      ┆ null      ┆ null      ┆ null      ┆ … ┆ null      ┆ null      ┆ null      ┆ null     │\n",
       "└───────────┴───────────┴───────────┴───────────┴───┴───────────┴───────────┴───────────┴──────────┘"
      ]
     },
     "execution_count": 70,
     "metadata": {},
     "output_type": "execute_result"
    }
   ],
   "source": [
    "df.sample(20).transpose()"
   ]
  },
  {
   "cell_type": "code",
   "execution_count": 71,
   "metadata": {},
   "outputs": [
    {
     "data": {
      "text/plain": [
       "(5791, 40)"
      ]
     },
     "execution_count": 71,
     "metadata": {},
     "output_type": "execute_result"
    }
   ],
   "source": [
    "df.shape"
   ]
  },
  {
   "cell_type": "markdown",
   "metadata": {},
   "source": [
    "## Types"
   ]
  },
  {
   "cell_type": "code",
   "execution_count": 72,
   "metadata": {
    "scrolled": true
   },
   "outputs": [
    {
     "data": {
      "text/plain": [
       "[Int64,\n",
       " String,\n",
       " String,\n",
       " String,\n",
       " Float64,\n",
       " Float64,\n",
       " Float64,\n",
       " Float64,\n",
       " Float64,\n",
       " Float64,\n",
       " Float64,\n",
       " Float64,\n",
       " Float64,\n",
       " Float64,\n",
       " Float64,\n",
       " Int64,\n",
       " Int64,\n",
       " Int64,\n",
       " Int64,\n",
       " Int64,\n",
       " Int64,\n",
       " Int64,\n",
       " String,\n",
       " String,\n",
       " String,\n",
       " String,\n",
       " String,\n",
       " String,\n",
       " String,\n",
       " String,\n",
       " String,\n",
       " String,\n",
       " String,\n",
       " String,\n",
       " String,\n",
       " String,\n",
       " String,\n",
       " String,\n",
       " String,\n",
       " String]"
      ]
     },
     "execution_count": 72,
     "metadata": {},
     "output_type": "execute_result"
    }
   ],
   "source": [
    "# Note that there is a string (Utf8) type\n",
    "df.dtypes"
   ]
  },
  {
   "cell_type": "code",
   "execution_count": 73,
   "metadata": {},
   "outputs": [
    {
     "data": {
      "text/plain": [
       "1925925"
      ]
     },
     "execution_count": 73,
     "metadata": {},
     "output_type": "execute_result"
    }
   ],
   "source": [
    "df.estimated_size()"
   ]
  },
  {
   "cell_type": "code",
   "execution_count": 74,
   "metadata": {
    "scrolled": true
   },
   "outputs": [
    {
     "data": {
      "text/html": [
       "<div><style>\n",
       ".dataframe > thead > tr,\n",
       ".dataframe > tbody > tr {\n",
       "  text-align: right;\n",
       "  white-space: pre-wrap;\n",
       "}\n",
       "</style>\n",
       "<small>shape: (9, 41)</small><table border=\"1\" class=\"dataframe\"><thead><tr><th>statistic</th><th>Tweet id</th><th>Tweet permalink</th><th>Tweet text</th><th>time</th><th>impressions</th><th>engagements</th><th>engagement rate</th><th>retweets</th><th>replies</th><th>likes</th><th>user profile clicks</th><th>url clicks</th><th>hashtag clicks</th><th>detail expands</th><th>permalink clicks</th><th>app opens</th><th>app installs</th><th>follows</th><th>email tweet</th><th>dial phone</th><th>media views</th><th>media engagements</th><th>promoted impressions</th><th>promoted engagements</th><th>promoted engagement rate</th><th>promoted retweets</th><th>promoted replies</th><th>promoted likes</th><th>promoted user profile clicks</th><th>promoted url clicks</th><th>promoted hashtag clicks</th><th>promoted detail expands</th><th>promoted permalink clicks</th><th>promoted app opens</th><th>promoted app installs</th><th>promoted follows</th><th>promoted email tweet</th><th>promoted dial phone</th><th>promoted media views</th><th>promoted media engagements</th></tr><tr><td>str</td><td>f64</td><td>str</td><td>str</td><td>str</td><td>f64</td><td>f64</td><td>f64</td><td>f64</td><td>f64</td><td>f64</td><td>f64</td><td>f64</td><td>f64</td><td>f64</td><td>f64</td><td>f64</td><td>f64</td><td>f64</td><td>f64</td><td>f64</td><td>f64</td><td>f64</td><td>str</td><td>str</td><td>str</td><td>str</td><td>str</td><td>str</td><td>str</td><td>str</td><td>str</td><td>str</td><td>str</td><td>str</td><td>str</td><td>str</td><td>str</td><td>str</td><td>str</td><td>str</td></tr></thead><tbody><tr><td>&quot;count&quot;</td><td>5791.0</td><td>&quot;5791&quot;</td><td>&quot;5791&quot;</td><td>&quot;5791&quot;</td><td>5791.0</td><td>5791.0</td><td>5791.0</td><td>5791.0</td><td>5791.0</td><td>5791.0</td><td>5791.0</td><td>5791.0</td><td>5791.0</td><td>5791.0</td><td>5791.0</td><td>5791.0</td><td>5791.0</td><td>5791.0</td><td>5791.0</td><td>5791.0</td><td>5791.0</td><td>5791.0</td><td>&quot;0&quot;</td><td>&quot;0&quot;</td><td>&quot;0&quot;</td><td>&quot;0&quot;</td><td>&quot;0&quot;</td><td>&quot;0&quot;</td><td>&quot;0&quot;</td><td>&quot;0&quot;</td><td>&quot;0&quot;</td><td>&quot;0&quot;</td><td>&quot;0&quot;</td><td>&quot;0&quot;</td><td>&quot;0&quot;</td><td>&quot;0&quot;</td><td>&quot;0&quot;</td><td>&quot;0&quot;</td><td>&quot;0&quot;</td><td>&quot;0&quot;</td></tr><tr><td>&quot;null_count&quot;</td><td>0.0</td><td>&quot;0&quot;</td><td>&quot;0&quot;</td><td>&quot;0&quot;</td><td>0.0</td><td>0.0</td><td>0.0</td><td>0.0</td><td>0.0</td><td>0.0</td><td>0.0</td><td>0.0</td><td>0.0</td><td>0.0</td><td>0.0</td><td>0.0</td><td>0.0</td><td>0.0</td><td>0.0</td><td>0.0</td><td>0.0</td><td>0.0</td><td>&quot;5791&quot;</td><td>&quot;5791&quot;</td><td>&quot;5791&quot;</td><td>&quot;5791&quot;</td><td>&quot;5791&quot;</td><td>&quot;5791&quot;</td><td>&quot;5791&quot;</td><td>&quot;5791&quot;</td><td>&quot;5791&quot;</td><td>&quot;5791&quot;</td><td>&quot;5791&quot;</td><td>&quot;5791&quot;</td><td>&quot;5791&quot;</td><td>&quot;5791&quot;</td><td>&quot;5791&quot;</td><td>&quot;5791&quot;</td><td>&quot;5791&quot;</td><td>&quot;5791&quot;</td></tr><tr><td>&quot;mean&quot;</td><td>1.3604e18</td><td>null</td><td>null</td><td>null</td><td>2297.820411</td><td>111.400967</td><td>0.034748</td><td>0.979796</td><td>1.124504</td><td>9.400622</td><td>20.594543</td><td>4.502331</td><td>0.019686</td><td>34.658436</td><td>0.0</td><td>0.001036</td><td>0.0</td><td>0.135901</td><td>0.0</td><td>0.0</td><td>39.868935</td><td>39.712485</td><td>null</td><td>null</td><td>null</td><td>null</td><td>null</td><td>null</td><td>null</td><td>null</td><td>null</td><td>null</td><td>null</td><td>null</td><td>null</td><td>null</td><td>null</td><td>null</td><td>null</td><td>null</td></tr><tr><td>&quot;std&quot;</td><td>6.8508e16</td><td>null</td><td>null</td><td>null</td><td>16414.560844</td><td>976.353689</td><td>0.050031</td><td>10.903919</td><td>6.322059</td><td>108.117865</td><td>436.521415</td><td>32.377223</td><td>0.302481</td><td>355.671163</td><td>0.0</td><td>0.045513</td><td>0.0</td><td>3.870531</td><td>0.0</td><td>0.0</td><td>333.838003</td><td>333.753866</td><td>null</td><td>null</td><td>null</td><td>null</td><td>null</td><td>null</td><td>null</td><td>null</td><td>null</td><td>null</td><td>null</td><td>null</td><td>null</td><td>null</td><td>null</td><td>null</td><td>null</td><td>null</td></tr><tr><td>&quot;min&quot;</td><td>1.2126e18</td><td>&quot;https://twitter.com/__mharriso…</td><td>&quot;&quot;i&quot; has a specific connotation…</td><td>&quot;2020-01-02 03:44:00+00:00&quot;</td><td>7.0</td><td>0.0</td><td>0.0</td><td>0.0</td><td>0.0</td><td>0.0</td><td>0.0</td><td>0.0</td><td>0.0</td><td>0.0</td><td>0.0</td><td>0.0</td><td>0.0</td><td>0.0</td><td>0.0</td><td>0.0</td><td>0.0</td><td>0.0</td><td>null</td><td>null</td><td>null</td><td>null</td><td>null</td><td>null</td><td>null</td><td>null</td><td>null</td><td>null</td><td>null</td><td>null</td><td>null</td><td>null</td><td>null</td><td>null</td><td>null</td><td>null</td></tr><tr><td>&quot;25%&quot;</td><td>1.3142e18</td><td>null</td><td>null</td><td>null</td><td>175.0</td><td>3.0</td><td>0.007064</td><td>0.0</td><td>0.0</td><td>0.0</td><td>0.0</td><td>0.0</td><td>0.0</td><td>1.0</td><td>0.0</td><td>0.0</td><td>0.0</td><td>0.0</td><td>0.0</td><td>0.0</td><td>0.0</td><td>0.0</td><td>null</td><td>null</td><td>null</td><td>null</td><td>null</td><td>null</td><td>null</td><td>null</td><td>null</td><td>null</td><td>null</td><td>null</td><td>null</td><td>null</td><td>null</td><td>null</td><td>null</td><td>null</td></tr><tr><td>&quot;50%&quot;</td><td>1.3589e18</td><td>null</td><td>null</td><td>null</td><td>612.0</td><td>7.0</td><td>0.016043</td><td>0.0</td><td>0.0</td><td>1.0</td><td>1.0</td><td>0.0</td><td>0.0</td><td>3.0</td><td>0.0</td><td>0.0</td><td>0.0</td><td>0.0</td><td>0.0</td><td>0.0</td><td>0.0</td><td>0.0</td><td>null</td><td>null</td><td>null</td><td>null</td><td>null</td><td>null</td><td>null</td><td>null</td><td>null</td><td>null</td><td>null</td><td>null</td><td>null</td><td>null</td><td>null</td><td>null</td><td>null</td><td>null</td></tr><tr><td>&quot;75%&quot;</td><td>1.4155e18</td><td>null</td><td>null</td><td>null</td><td>1617.0</td><td>25.0</td><td>0.040902</td><td>0.0</td><td>1.0</td><td>4.0</td><td>4.0</td><td>0.0</td><td>0.0</td><td>8.0</td><td>0.0</td><td>0.0</td><td>0.0</td><td>0.0</td><td>0.0</td><td>0.0</td><td>0.0</td><td>0.0</td><td>null</td><td>null</td><td>null</td><td>null</td><td>null</td><td>null</td><td>null</td><td>null</td><td>null</td><td>null</td><td>null</td><td>null</td><td>null</td><td>null</td><td>null</td><td>null</td><td>null</td><td>null</td></tr><tr><td>&quot;max&quot;</td><td>1.4770e18</td><td>&quot;https://twitter.com/__mharriso…</td><td>&quot;🤯🙏 https://t.co/AsLaS3Hrdv&quot;</td><td>&quot;2021-12-31 21:11:00+00:00&quot;</td><td>856749.0</td><td>45660.0</td><td>0.484127</td><td>465.0</td><td>207.0</td><td>5358.0</td><td>22393.0</td><td>1272.0</td><td>12.0</td><td>17078.0</td><td>0.0</td><td>3.0</td><td>0.0</td><td>191.0</td><td>0.0</td><td>0.0</td><td>16816.0</td><td>16816.0</td><td>null</td><td>null</td><td>null</td><td>null</td><td>null</td><td>null</td><td>null</td><td>null</td><td>null</td><td>null</td><td>null</td><td>null</td><td>null</td><td>null</td><td>null</td><td>null</td><td>null</td><td>null</td></tr></tbody></table></div>"
      ],
      "text/plain": [
       "shape: (9, 41)\n",
       "┌───────────┬───────────┬───────────┬───────────┬───┬───────────┬───────────┬───────────┬──────────┐\n",
       "│ statistic ┆ Tweet id  ┆ Tweet     ┆ Tweet     ┆ … ┆ promoted  ┆ promoted  ┆ promoted  ┆ promoted │\n",
       "│ ---       ┆ ---       ┆ permalink ┆ text      ┆   ┆ email     ┆ dial      ┆ media     ┆ media    │\n",
       "│ str       ┆ f64       ┆ ---       ┆ ---       ┆   ┆ tweet     ┆ phone     ┆ views     ┆ engageme │\n",
       "│           ┆           ┆ str       ┆ str       ┆   ┆ ---       ┆ ---       ┆ ---       ┆ nts      │\n",
       "│           ┆           ┆           ┆           ┆   ┆ str       ┆ str       ┆ str       ┆ ---      │\n",
       "│           ┆           ┆           ┆           ┆   ┆           ┆           ┆           ┆ str      │\n",
       "╞═══════════╪═══════════╪═══════════╪═══════════╪═══╪═══════════╪═══════════╪═══════════╪══════════╡\n",
       "│ count     ┆ 5791.0    ┆ 5791      ┆ 5791      ┆ … ┆ 0         ┆ 0         ┆ 0         ┆ 0        │\n",
       "│ null_coun ┆ 0.0       ┆ 0         ┆ 0         ┆ … ┆ 5791      ┆ 5791      ┆ 5791      ┆ 5791     │\n",
       "│ t         ┆           ┆           ┆           ┆   ┆           ┆           ┆           ┆          │\n",
       "│ mean      ┆ 1.3604e18 ┆ null      ┆ null      ┆ … ┆ null      ┆ null      ┆ null      ┆ null     │\n",
       "│ std       ┆ 6.8508e16 ┆ null      ┆ null      ┆ … ┆ null      ┆ null      ┆ null      ┆ null     │\n",
       "│ min       ┆ 1.2126e18 ┆ https://t ┆ \"i\" has a ┆ … ┆ null      ┆ null      ┆ null      ┆ null     │\n",
       "│           ┆           ┆ witter.co ┆ specific  ┆   ┆           ┆           ┆           ┆          │\n",
       "│           ┆           ┆ m/__mharr ┆ connotati ┆   ┆           ┆           ┆           ┆          │\n",
       "│           ┆           ┆ iso…      ┆ on…       ┆   ┆           ┆           ┆           ┆          │\n",
       "│ 25%       ┆ 1.3142e18 ┆ null      ┆ null      ┆ … ┆ null      ┆ null      ┆ null      ┆ null     │\n",
       "│ 50%       ┆ 1.3589e18 ┆ null      ┆ null      ┆ … ┆ null      ┆ null      ┆ null      ┆ null     │\n",
       "│ 75%       ┆ 1.4155e18 ┆ null      ┆ null      ┆ … ┆ null      ┆ null      ┆ null      ┆ null     │\n",
       "│ max       ┆ 1.4770e18 ┆ https://t ┆ 🤯🙏 http ┆ … ┆ null      ┆ null      ┆ null      ┆ null     │\n",
       "│           ┆           ┆ witter.co ┆ s://t.co/ ┆   ┆           ┆           ┆           ┆          │\n",
       "│           ┆           ┆ m/__mharr ┆ AsLaS3Hrd ┆   ┆           ┆           ┆           ┆          │\n",
       "│           ┆           ┆ iso…      ┆ v         ┆   ┆           ┆           ┆           ┆          │\n",
       "└───────────┴───────────┴───────────┴───────────┴───┴───────────┴───────────┴───────────┴──────────┘"
      ]
     },
     "execution_count": 74,
     "metadata": {},
     "output_type": "execute_result"
    }
   ],
   "source": [
    "df.describe()"
   ]
  },
  {
   "cell_type": "code",
   "execution_count": 75,
   "metadata": {
    "scrolled": false
   },
   "outputs": [
    {
     "data": {
      "text/html": [
       "<div><style>\n",
       ".dataframe > thead > tr,\n",
       ".dataframe > tbody > tr {\n",
       "  text-align: right;\n",
       "  white-space: pre-wrap;\n",
       "}\n",
       "</style>\n",
       "<small>shape: (1, 40)</small><table border=\"1\" class=\"dataframe\"><thead><tr><th>Tweet id</th><th>Tweet permalink</th><th>Tweet text</th><th>time</th><th>impressions</th><th>engagements</th><th>engagement rate</th><th>retweets</th><th>replies</th><th>likes</th><th>user profile clicks</th><th>url clicks</th><th>hashtag clicks</th><th>detail expands</th><th>permalink clicks</th><th>app opens</th><th>app installs</th><th>follows</th><th>email tweet</th><th>dial phone</th><th>media views</th><th>media engagements</th><th>promoted impressions</th><th>promoted engagements</th><th>promoted engagement rate</th><th>promoted retweets</th><th>promoted replies</th><th>promoted likes</th><th>promoted user profile clicks</th><th>promoted url clicks</th><th>promoted hashtag clicks</th><th>promoted detail expands</th><th>promoted permalink clicks</th><th>promoted app opens</th><th>promoted app installs</th><th>promoted follows</th><th>promoted email tweet</th><th>promoted dial phone</th><th>promoted media views</th><th>promoted media engagements</th></tr><tr><td>f64</td><td>str</td><td>str</td><td>str</td><td>f64</td><td>f64</td><td>f64</td><td>f64</td><td>f64</td><td>f64</td><td>f64</td><td>f64</td><td>f64</td><td>f64</td><td>f64</td><td>f64</td><td>f64</td><td>f64</td><td>f64</td><td>f64</td><td>f64</td><td>f64</td><td>str</td><td>str</td><td>str</td><td>str</td><td>str</td><td>str</td><td>str</td><td>str</td><td>str</td><td>str</td><td>str</td><td>str</td><td>str</td><td>str</td><td>str</td><td>str</td><td>str</td><td>str</td></tr></thead><tbody><tr><td>1.3142e18</td><td>null</td><td>null</td><td>null</td><td>175.0</td><td>3.0</td><td>0.007064</td><td>0.0</td><td>0.0</td><td>0.0</td><td>0.0</td><td>0.0</td><td>0.0</td><td>1.0</td><td>0.0</td><td>0.0</td><td>0.0</td><td>0.0</td><td>0.0</td><td>0.0</td><td>0.0</td><td>0.0</td><td>null</td><td>null</td><td>null</td><td>null</td><td>null</td><td>null</td><td>null</td><td>null</td><td>null</td><td>null</td><td>null</td><td>null</td><td>null</td><td>null</td><td>null</td><td>null</td><td>null</td><td>null</td></tr></tbody></table></div>"
      ],
      "text/plain": [
       "shape: (1, 40)\n",
       "┌───────────┬─────────────┬───────┬──────┬───┬─────────────┬─────────────┬────────────┬────────────┐\n",
       "│ Tweet id  ┆ Tweet       ┆ Tweet ┆ time ┆ … ┆ promoted    ┆ promoted    ┆ promoted   ┆ promoted   │\n",
       "│ ---       ┆ permalink   ┆ text  ┆ ---  ┆   ┆ email tweet ┆ dial phone  ┆ media      ┆ media enga │\n",
       "│ f64       ┆ ---         ┆ ---   ┆ str  ┆   ┆ ---         ┆ ---         ┆ views      ┆ gements    │\n",
       "│           ┆ str         ┆ str   ┆      ┆   ┆ str         ┆ str         ┆ ---        ┆ ---        │\n",
       "│           ┆             ┆       ┆      ┆   ┆             ┆             ┆ str        ┆ str        │\n",
       "╞═══════════╪═════════════╪═══════╪══════╪═══╪═════════════╪═════════════╪════════════╪════════════╡\n",
       "│ 1.3142e18 ┆ null        ┆ null  ┆ null ┆ … ┆ null        ┆ null        ┆ null       ┆ null       │\n",
       "└───────────┴─────────────┴───────┴──────┴───┴─────────────┴─────────────┴────────────┴────────────┘"
      ]
     },
     "execution_count": 75,
     "metadata": {},
     "output_type": "execute_result"
    }
   ],
   "source": [
    "df.quantile(.25)"
   ]
  },
  {
   "cell_type": "code",
   "execution_count": 76,
   "metadata": {
    "lines_to_next_cell": 2,
    "scrolled": true
   },
   "outputs": [
    {
     "data": {
      "text/html": [
       "<div><style>\n",
       ".dataframe > thead > tr,\n",
       ".dataframe > tbody > tr {\n",
       "  text-align: right;\n",
       "  white-space: pre-wrap;\n",
       "}\n",
       "</style>\n",
       "<small>shape: (5_791, 40)</small><table border=\"1\" class=\"dataframe\"><thead><tr><th>Tweet id</th><th>Tweet permalink</th><th>Tweet text</th><th>time</th><th>impressions</th><th>engagements</th><th>engagement rate</th><th>retweets</th><th>replies</th><th>likes</th><th>user profile clicks</th><th>url clicks</th><th>hashtag clicks</th><th>detail expands</th><th>permalink clicks</th><th>app opens</th><th>app installs</th><th>follows</th><th>email tweet</th><th>dial phone</th><th>media views</th><th>media engagements</th><th>promoted impressions</th><th>promoted engagements</th><th>promoted engagement rate</th><th>promoted retweets</th><th>promoted replies</th><th>promoted likes</th><th>promoted user profile clicks</th><th>promoted url clicks</th><th>promoted hashtag clicks</th><th>promoted detail expands</th><th>promoted permalink clicks</th><th>promoted app opens</th><th>promoted app installs</th><th>promoted follows</th><th>promoted email tweet</th><th>promoted dial phone</th><th>promoted media views</th><th>promoted media engagements</th></tr><tr><td>i64</td><td>str</td><td>str</td><td>str</td><td>f64</td><td>f64</td><td>f64</td><td>f64</td><td>f64</td><td>f64</td><td>f64</td><td>f64</td><td>f64</td><td>f64</td><td>f64</td><td>i64</td><td>i64</td><td>i64</td><td>i64</td><td>i64</td><td>i64</td><td>i64</td><td>str</td><td>str</td><td>str</td><td>str</td><td>str</td><td>str</td><td>str</td><td>str</td><td>str</td><td>str</td><td>str</td><td>str</td><td>str</td><td>str</td><td>str</td><td>str</td><td>str</td><td>str</td></tr></thead><tbody><tr><td>1212580517905780737</td><td>&quot;https://twitter.com/__mharriso…</td><td>&quot;Sounds like a great topic! htt…</td><td>&quot;2020-01-02 03:44:00+00:00&quot;</td><td>1465.0</td><td>7.0</td><td>0.004778</td><td>0.0</td><td>0.0</td><td>3.0</td><td>3.0</td><td>0.0</td><td>0.0</td><td>1.0</td><td>0.0</td><td>0</td><td>0</td><td>0</td><td>0</td><td>0</td><td>0</td><td>0</td><td>null</td><td>null</td><td>null</td><td>null</td><td>null</td><td>null</td><td>null</td><td>null</td><td>null</td><td>null</td><td>null</td><td>null</td><td>null</td><td>null</td><td>null</td><td>null</td><td>null</td><td>null</td></tr><tr><td>1212582494828036097</td><td>&quot;https://twitter.com/__mharriso…</td><td>&quot;@FogleBird Looks like SLC. I c…</td><td>&quot;2020-01-02 03:52:00+00:00&quot;</td><td>154.0</td><td>3.0</td><td>0.019481</td><td>0.0</td><td>0.0</td><td>1.0</td><td>1.0</td><td>0.0</td><td>0.0</td><td>1.0</td><td>0.0</td><td>0</td><td>0</td><td>0</td><td>0</td><td>0</td><td>0</td><td>0</td><td>null</td><td>null</td><td>null</td><td>null</td><td>null</td><td>null</td><td>null</td><td>null</td><td>null</td><td>null</td><td>null</td><td>null</td><td>null</td><td>null</td><td>null</td><td>null</td><td>null</td><td>null</td></tr><tr><td>1212613735698690049</td><td>&quot;https://twitter.com/__mharriso…</td><td>&quot;@afilina That&#x27;s really amount …</td><td>&quot;2020-01-02 05:56:00+00:00&quot;</td><td>1024.0</td><td>6.0</td><td>0.005859</td><td>0.0</td><td>0.0</td><td>1.0</td><td>2.0</td><td>0.0</td><td>0.0</td><td>3.0</td><td>0.0</td><td>0</td><td>0</td><td>0</td><td>0</td><td>0</td><td>0</td><td>0</td><td>null</td><td>null</td><td>null</td><td>null</td><td>null</td><td>null</td><td>null</td><td>null</td><td>null</td><td>null</td><td>null</td><td>null</td><td>null</td><td>null</td><td>null</td><td>null</td><td>null</td><td>null</td></tr><tr><td>1212911749617242113</td><td>&quot;https://twitter.com/__mharriso…</td><td>&quot;@randal_olson I use anaconda w…</td><td>&quot;2020-01-03 01:41:00+00:00&quot;</td><td>1419.0</td><td>14.0</td><td>0.009866</td><td>0.0</td><td>1.0</td><td>5.0</td><td>7.0</td><td>0.0</td><td>0.0</td><td>1.0</td><td>0.0</td><td>0</td><td>0</td><td>0</td><td>0</td><td>0</td><td>0</td><td>0</td><td>null</td><td>null</td><td>null</td><td>null</td><td>null</td><td>null</td><td>null</td><td>null</td><td>null</td><td>null</td><td>null</td><td>null</td><td>null</td><td>null</td><td>null</td><td>null</td><td>null</td><td>null</td></tr><tr><td>1212920556028252160</td><td>&quot;https://twitter.com/__mharriso…</td><td>&quot;@AlSweigart Sometimes the stud…</td><td>&quot;2020-01-03 02:16:00+00:00&quot;</td><td>198.0</td><td>1.0</td><td>0.005051</td><td>0.0</td><td>0.0</td><td>1.0</td><td>0.0</td><td>0.0</td><td>0.0</td><td>0.0</td><td>0.0</td><td>0</td><td>0</td><td>0</td><td>0</td><td>0</td><td>0</td><td>0</td><td>null</td><td>null</td><td>null</td><td>null</td><td>null</td><td>null</td><td>null</td><td>null</td><td>null</td><td>null</td><td>null</td><td>null</td><td>null</td><td>null</td><td>null</td><td>null</td><td>null</td><td>null</td></tr><tr><td>&hellip;</td><td>&hellip;</td><td>&hellip;</td><td>&hellip;</td><td>&hellip;</td><td>&hellip;</td><td>&hellip;</td><td>&hellip;</td><td>&hellip;</td><td>&hellip;</td><td>&hellip;</td><td>&hellip;</td><td>&hellip;</td><td>&hellip;</td><td>&hellip;</td><td>&hellip;</td><td>&hellip;</td><td>&hellip;</td><td>&hellip;</td><td>&hellip;</td><td>&hellip;</td><td>&hellip;</td><td>&hellip;</td><td>&hellip;</td><td>&hellip;</td><td>&hellip;</td><td>&hellip;</td><td>&hellip;</td><td>&hellip;</td><td>&hellip;</td><td>&hellip;</td><td>&hellip;</td><td>&hellip;</td><td>&hellip;</td><td>&hellip;</td><td>&hellip;</td><td>&hellip;</td><td>&hellip;</td><td>&hellip;</td><td>&hellip;</td></tr><tr><td>1475300661851934721</td><td>&quot;https://twitter.com/__mharriso…</td><td>&quot;@allison_horst That&#x27;s awesome!&quot;</td><td>&quot;2021-12-27 03:01:00+00:00&quot;</td><td>986.0</td><td>1.0</td><td>0.001014</td><td>0.0</td><td>0.0</td><td>0.0</td><td>0.0</td><td>0.0</td><td>0.0</td><td>1.0</td><td>0.0</td><td>0</td><td>0</td><td>0</td><td>0</td><td>0</td><td>0</td><td>0</td><td>null</td><td>null</td><td>null</td><td>null</td><td>null</td><td>null</td><td>null</td><td>null</td><td>null</td><td>null</td><td>null</td><td>null</td><td>null</td><td>null</td><td>null</td><td>null</td><td>null</td><td>null</td></tr><tr><td>1475518143690801156</td><td>&quot;https://twitter.com/__mharriso…</td><td>&quot;@willmcgugan You need to find …</td><td>&quot;2021-12-27 17:25:00+00:00&quot;</td><td>1790.0</td><td>7.0</td><td>0.003911</td><td>0.0</td><td>0.0</td><td>3.0</td><td>1.0</td><td>0.0</td><td>0.0</td><td>3.0</td><td>0.0</td><td>0</td><td>0</td><td>0</td><td>0</td><td>0</td><td>0</td><td>0</td><td>null</td><td>null</td><td>null</td><td>null</td><td>null</td><td>null</td><td>null</td><td>null</td><td>null</td><td>null</td><td>null</td><td>null</td><td>null</td><td>null</td><td>null</td><td>null</td><td>null</td><td>null</td></tr><tr><td>1475891441243025408</td><td>&quot;https://twitter.com/__mharriso…</td><td>&quot;@posco Visiting Hawaii for the…</td><td>&quot;2021-12-28 18:08:00+00:00&quot;</td><td>1611.0</td><td>12.0</td><td>0.007449</td><td>0.0</td><td>0.0</td><td>4.0</td><td>4.0</td><td>0.0</td><td>0.0</td><td>4.0</td><td>0.0</td><td>0</td><td>0</td><td>0</td><td>0</td><td>0</td><td>0</td><td>0</td><td>null</td><td>null</td><td>null</td><td>null</td><td>null</td><td>null</td><td>null</td><td>null</td><td>null</td><td>null</td><td>null</td><td>null</td><td>null</td><td>null</td><td>null</td><td>null</td><td>null</td><td>null</td></tr><tr><td>1476453819751878656</td><td>&quot;https://twitter.com/__mharriso…</td><td>&quot;@johndsaunders My son just bui…</td><td>&quot;2021-12-30 07:23:00+00:00&quot;</td><td>1354.0</td><td>8.0</td><td>0.005908</td><td>0.0</td><td>0.0</td><td>2.0</td><td>4.0</td><td>0.0</td><td>0.0</td><td>2.0</td><td>0.0</td><td>0</td><td>0</td><td>0</td><td>0</td><td>0</td><td>0</td><td>0</td><td>null</td><td>null</td><td>null</td><td>null</td><td>null</td><td>null</td><td>null</td><td>null</td><td>null</td><td>null</td><td>null</td><td>null</td><td>null</td><td>null</td><td>null</td><td>null</td><td>null</td><td>null</td></tr><tr><td>1477024722051158018</td><td>&quot;https://twitter.com/__mharriso…</td><td>&quot;@tunguz Xgboost&quot;</td><td>&quot;2021-12-31 21:11:00+00:00&quot;</td><td>5041.0</td><td>63.0</td><td>0.012498</td><td>0.0</td><td>3.0</td><td>23.0</td><td>8.0</td><td>0.0</td><td>0.0</td><td>29.0</td><td>0.0</td><td>0</td><td>0</td><td>0</td><td>0</td><td>0</td><td>0</td><td>0</td><td>null</td><td>null</td><td>null</td><td>null</td><td>null</td><td>null</td><td>null</td><td>null</td><td>null</td><td>null</td><td>null</td><td>null</td><td>null</td><td>null</td><td>null</td><td>null</td><td>null</td><td>null</td></tr></tbody></table></div>"
      ],
      "text/plain": [
       "shape: (5_791, 40)\n",
       "┌───────────┬───────────┬───────────┬───────────┬───┬───────────┬───────────┬───────────┬──────────┐\n",
       "│ Tweet id  ┆ Tweet     ┆ Tweet     ┆ time      ┆ … ┆ promoted  ┆ promoted  ┆ promoted  ┆ promoted │\n",
       "│ ---       ┆ permalink ┆ text      ┆ ---       ┆   ┆ email     ┆ dial      ┆ media     ┆ media    │\n",
       "│ i64       ┆ ---       ┆ ---       ┆ str       ┆   ┆ tweet     ┆ phone     ┆ views     ┆ engageme │\n",
       "│           ┆ str       ┆ str       ┆           ┆   ┆ ---       ┆ ---       ┆ ---       ┆ nts      │\n",
       "│           ┆           ┆           ┆           ┆   ┆ str       ┆ str       ┆ str       ┆ ---      │\n",
       "│           ┆           ┆           ┆           ┆   ┆           ┆           ┆           ┆ str      │\n",
       "╞═══════════╪═══════════╪═══════════╪═══════════╪═══╪═══════════╪═══════════╪═══════════╪══════════╡\n",
       "│ 121258051 ┆ https://t ┆ Sounds    ┆ 2020-01-0 ┆ … ┆ null      ┆ null      ┆ null      ┆ null     │\n",
       "│ 790578073 ┆ witter.co ┆ like a    ┆ 2 03:44:0 ┆   ┆           ┆           ┆           ┆          │\n",
       "│ 7         ┆ m/__mharr ┆ great     ┆ 0+00:00   ┆   ┆           ┆           ┆           ┆          │\n",
       "│           ┆ iso…      ┆ topic!    ┆           ┆   ┆           ┆           ┆           ┆          │\n",
       "│           ┆           ┆ htt…      ┆           ┆   ┆           ┆           ┆           ┆          │\n",
       "│ 121258249 ┆ https://t ┆ @FogleBir ┆ 2020-01-0 ┆ … ┆ null      ┆ null      ┆ null      ┆ null     │\n",
       "│ 482803609 ┆ witter.co ┆ d Looks   ┆ 2 03:52:0 ┆   ┆           ┆           ┆           ┆          │\n",
       "│ 7         ┆ m/__mharr ┆ like SLC. ┆ 0+00:00   ┆   ┆           ┆           ┆           ┆          │\n",
       "│           ┆ iso…      ┆ I c…      ┆           ┆   ┆           ┆           ┆           ┆          │\n",
       "│ 121261373 ┆ https://t ┆ @afilina  ┆ 2020-01-0 ┆ … ┆ null      ┆ null      ┆ null      ┆ null     │\n",
       "│ 569869004 ┆ witter.co ┆ That's    ┆ 2 05:56:0 ┆   ┆           ┆           ┆           ┆          │\n",
       "│ 9         ┆ m/__mharr ┆ really    ┆ 0+00:00   ┆   ┆           ┆           ┆           ┆          │\n",
       "│           ┆ iso…      ┆ amount …  ┆           ┆   ┆           ┆           ┆           ┆          │\n",
       "│ 121291174 ┆ https://t ┆ @randal_o ┆ 2020-01-0 ┆ … ┆ null      ┆ null      ┆ null      ┆ null     │\n",
       "│ 961724211 ┆ witter.co ┆ lson I    ┆ 3 01:41:0 ┆   ┆           ┆           ┆           ┆          │\n",
       "│ 3         ┆ m/__mharr ┆ use       ┆ 0+00:00   ┆   ┆           ┆           ┆           ┆          │\n",
       "│           ┆ iso…      ┆ anaconda  ┆           ┆   ┆           ┆           ┆           ┆          │\n",
       "│           ┆           ┆ w…        ┆           ┆   ┆           ┆           ┆           ┆          │\n",
       "│ 121292055 ┆ https://t ┆ @AlSweiga ┆ 2020-01-0 ┆ … ┆ null      ┆ null      ┆ null      ┆ null     │\n",
       "│ 602825216 ┆ witter.co ┆ rt        ┆ 3 02:16:0 ┆   ┆           ┆           ┆           ┆          │\n",
       "│ 0         ┆ m/__mharr ┆ Sometimes ┆ 0+00:00   ┆   ┆           ┆           ┆           ┆          │\n",
       "│           ┆ iso…      ┆ the stud… ┆           ┆   ┆           ┆           ┆           ┆          │\n",
       "│ …         ┆ …         ┆ …         ┆ …         ┆ … ┆ …         ┆ …         ┆ …         ┆ …        │\n",
       "│ 147530066 ┆ https://t ┆ @allison_ ┆ 2021-12-2 ┆ … ┆ null      ┆ null      ┆ null      ┆ null     │\n",
       "│ 185193472 ┆ witter.co ┆ horst     ┆ 7 03:01:0 ┆   ┆           ┆           ┆           ┆          │\n",
       "│ 1         ┆ m/__mharr ┆ That's    ┆ 0+00:00   ┆   ┆           ┆           ┆           ┆          │\n",
       "│           ┆ iso…      ┆ awesome!  ┆           ┆   ┆           ┆           ┆           ┆          │\n",
       "│ 147551814 ┆ https://t ┆ @willmcgu ┆ 2021-12-2 ┆ … ┆ null      ┆ null      ┆ null      ┆ null     │\n",
       "│ 369080115 ┆ witter.co ┆ gan You   ┆ 7 17:25:0 ┆   ┆           ┆           ┆           ┆          │\n",
       "│ 6         ┆ m/__mharr ┆ need to   ┆ 0+00:00   ┆   ┆           ┆           ┆           ┆          │\n",
       "│           ┆ iso…      ┆ find …    ┆           ┆   ┆           ┆           ┆           ┆          │\n",
       "│ 147589144 ┆ https://t ┆ @posco    ┆ 2021-12-2 ┆ … ┆ null      ┆ null      ┆ null      ┆ null     │\n",
       "│ 124302540 ┆ witter.co ┆ Visiting  ┆ 8 18:08:0 ┆   ┆           ┆           ┆           ┆          │\n",
       "│ 8         ┆ m/__mharr ┆ Hawaii    ┆ 0+00:00   ┆   ┆           ┆           ┆           ┆          │\n",
       "│           ┆ iso…      ┆ for the…  ┆           ┆   ┆           ┆           ┆           ┆          │\n",
       "│ 147645381 ┆ https://t ┆ @johndsau ┆ 2021-12-3 ┆ … ┆ null      ┆ null      ┆ null      ┆ null     │\n",
       "│ 975187865 ┆ witter.co ┆ nders My  ┆ 0 07:23:0 ┆   ┆           ┆           ┆           ┆          │\n",
       "│ 6         ┆ m/__mharr ┆ son just  ┆ 0+00:00   ┆   ┆           ┆           ┆           ┆          │\n",
       "│           ┆ iso…      ┆ bui…      ┆           ┆   ┆           ┆           ┆           ┆          │\n",
       "│ 147702472 ┆ https://t ┆ @tunguz   ┆ 2021-12-3 ┆ … ┆ null      ┆ null      ┆ null      ┆ null     │\n",
       "│ 205115801 ┆ witter.co ┆ Xgboost   ┆ 1 21:11:0 ┆   ┆           ┆           ┆           ┆          │\n",
       "│ 8         ┆ m/__mharr ┆           ┆ 0+00:00   ┆   ┆           ┆           ┆           ┆          │\n",
       "│           ┆ iso…      ┆           ┆           ┆   ┆           ┆           ┆           ┆          │\n",
       "└───────────┴───────────┴───────────┴───────────┴───┴───────────┴───────────┴───────────┴──────────┘"
      ]
     },
     "execution_count": 76,
     "metadata": {},
     "output_type": "execute_result"
    }
   ],
   "source": [
    "# Generally want to use *expressions* instead of working directly\n",
    "# on dataframe.\n",
    "# use pl.all() instead of pl.col('*')\n",
    "(df\n",
    " .select(pl.all())\n",
    ")"
   ]
  },
  {
   "cell_type": "code",
   "execution_count": 77,
   "metadata": {
    "scrolled": true
   },
   "outputs": [
    {
     "data": {
      "text/html": [
       "<div><style>\n",
       ".dataframe > thead > tr,\n",
       ".dataframe > tbody > tr {\n",
       "  text-align: right;\n",
       "  white-space: pre-wrap;\n",
       "}\n",
       "</style>\n",
       "<small>shape: (5_791, 11)</small><table border=\"1\" class=\"dataframe\"><thead><tr><th>impressions</th><th>engagements</th><th>engagement rate</th><th>retweets</th><th>replies</th><th>likes</th><th>user profile clicks</th><th>url clicks</th><th>hashtag clicks</th><th>detail expands</th><th>permalink clicks</th></tr><tr><td>f64</td><td>f64</td><td>f64</td><td>f64</td><td>f64</td><td>f64</td><td>f64</td><td>f64</td><td>f64</td><td>f64</td><td>f64</td></tr></thead><tbody><tr><td>1465.0</td><td>7.0</td><td>0.004778</td><td>0.0</td><td>0.0</td><td>3.0</td><td>3.0</td><td>0.0</td><td>0.0</td><td>1.0</td><td>0.0</td></tr><tr><td>154.0</td><td>3.0</td><td>0.019481</td><td>0.0</td><td>0.0</td><td>1.0</td><td>1.0</td><td>0.0</td><td>0.0</td><td>1.0</td><td>0.0</td></tr><tr><td>1024.0</td><td>6.0</td><td>0.005859</td><td>0.0</td><td>0.0</td><td>1.0</td><td>2.0</td><td>0.0</td><td>0.0</td><td>3.0</td><td>0.0</td></tr><tr><td>1419.0</td><td>14.0</td><td>0.009866</td><td>0.0</td><td>1.0</td><td>5.0</td><td>7.0</td><td>0.0</td><td>0.0</td><td>1.0</td><td>0.0</td></tr><tr><td>198.0</td><td>1.0</td><td>0.005051</td><td>0.0</td><td>0.0</td><td>1.0</td><td>0.0</td><td>0.0</td><td>0.0</td><td>0.0</td><td>0.0</td></tr><tr><td>&hellip;</td><td>&hellip;</td><td>&hellip;</td><td>&hellip;</td><td>&hellip;</td><td>&hellip;</td><td>&hellip;</td><td>&hellip;</td><td>&hellip;</td><td>&hellip;</td><td>&hellip;</td></tr><tr><td>986.0</td><td>1.0</td><td>0.001014</td><td>0.0</td><td>0.0</td><td>0.0</td><td>0.0</td><td>0.0</td><td>0.0</td><td>1.0</td><td>0.0</td></tr><tr><td>1790.0</td><td>7.0</td><td>0.003911</td><td>0.0</td><td>0.0</td><td>3.0</td><td>1.0</td><td>0.0</td><td>0.0</td><td>3.0</td><td>0.0</td></tr><tr><td>1611.0</td><td>12.0</td><td>0.007449</td><td>0.0</td><td>0.0</td><td>4.0</td><td>4.0</td><td>0.0</td><td>0.0</td><td>4.0</td><td>0.0</td></tr><tr><td>1354.0</td><td>8.0</td><td>0.005908</td><td>0.0</td><td>0.0</td><td>2.0</td><td>4.0</td><td>0.0</td><td>0.0</td><td>2.0</td><td>0.0</td></tr><tr><td>5041.0</td><td>63.0</td><td>0.012498</td><td>0.0</td><td>3.0</td><td>23.0</td><td>8.0</td><td>0.0</td><td>0.0</td><td>29.0</td><td>0.0</td></tr></tbody></table></div>"
      ],
      "text/plain": [
       "shape: (5_791, 11)\n",
       "┌────────────┬────────────┬────────────┬──────────┬───┬────────┬───────────┬───────────┬───────────┐\n",
       "│ impression ┆ engagement ┆ engagement ┆ retweets ┆ … ┆ url    ┆ hashtag   ┆ detail    ┆ permalink │\n",
       "│ s          ┆ s          ┆ rate       ┆ ---      ┆   ┆ clicks ┆ clicks    ┆ expands   ┆ clicks    │\n",
       "│ ---        ┆ ---        ┆ ---        ┆ f64      ┆   ┆ ---    ┆ ---       ┆ ---       ┆ ---       │\n",
       "│ f64        ┆ f64        ┆ f64        ┆          ┆   ┆ f64    ┆ f64       ┆ f64       ┆ f64       │\n",
       "╞════════════╪════════════╪════════════╪══════════╪═══╪════════╪═══════════╪═══════════╪═══════════╡\n",
       "│ 1465.0     ┆ 7.0        ┆ 0.004778   ┆ 0.0      ┆ … ┆ 0.0    ┆ 0.0       ┆ 1.0       ┆ 0.0       │\n",
       "│ 154.0      ┆ 3.0        ┆ 0.019481   ┆ 0.0      ┆ … ┆ 0.0    ┆ 0.0       ┆ 1.0       ┆ 0.0       │\n",
       "│ 1024.0     ┆ 6.0        ┆ 0.005859   ┆ 0.0      ┆ … ┆ 0.0    ┆ 0.0       ┆ 3.0       ┆ 0.0       │\n",
       "│ 1419.0     ┆ 14.0       ┆ 0.009866   ┆ 0.0      ┆ … ┆ 0.0    ┆ 0.0       ┆ 1.0       ┆ 0.0       │\n",
       "│ 198.0      ┆ 1.0        ┆ 0.005051   ┆ 0.0      ┆ … ┆ 0.0    ┆ 0.0       ┆ 0.0       ┆ 0.0       │\n",
       "│ …          ┆ …          ┆ …          ┆ …        ┆ … ┆ …      ┆ …         ┆ …         ┆ …         │\n",
       "│ 986.0      ┆ 1.0        ┆ 0.001014   ┆ 0.0      ┆ … ┆ 0.0    ┆ 0.0       ┆ 1.0       ┆ 0.0       │\n",
       "│ 1790.0     ┆ 7.0        ┆ 0.003911   ┆ 0.0      ┆ … ┆ 0.0    ┆ 0.0       ┆ 3.0       ┆ 0.0       │\n",
       "│ 1611.0     ┆ 12.0       ┆ 0.007449   ┆ 0.0      ┆ … ┆ 0.0    ┆ 0.0       ┆ 4.0       ┆ 0.0       │\n",
       "│ 1354.0     ┆ 8.0        ┆ 0.005908   ┆ 0.0      ┆ … ┆ 0.0    ┆ 0.0       ┆ 2.0       ┆ 0.0       │\n",
       "│ 5041.0     ┆ 63.0       ┆ 0.012498   ┆ 0.0      ┆ … ┆ 0.0    ┆ 0.0       ┆ 29.0      ┆ 0.0       │\n",
       "└────────────┴────────────┴────────────┴──────────┴───┴────────┴───────────┴───────────┴───────────┘"
      ]
     },
     "execution_count": 77,
     "metadata": {},
     "output_type": "execute_result"
    }
   ],
   "source": [
    "# pl.col can also select datatypes\n",
    "# pl.col can also exclude (using .exclude method)\n",
    "# pl.col can use regex\n",
    "\n",
    "(df\n",
    " .select(pl.col(pl.Float64))\n",
    ")"
   ]
  },
  {
   "cell_type": "code",
   "execution_count": 79,
   "metadata": {
    "scrolled": true
   },
   "outputs": [],
   "source": [
    "# Use .suffix .prefix or .alias to remove duplicate names\n",
    "\n",
    "# (df\n",
    "#  .select(['impressions',\n",
    "#           'impressions'])\n",
    "# )"
   ]
  },
  {
   "cell_type": "code",
   "execution_count": 82,
   "metadata": {
    "scrolled": true
   },
   "outputs": [
    {
     "data": {
      "text/html": [
       "<div><style>\n",
       ".dataframe > thead > tr,\n",
       ".dataframe > tbody > tr {\n",
       "  text-align: right;\n",
       "  white-space: pre-wrap;\n",
       "}\n",
       "</style>\n",
       "<small>shape: (5_791, 2)</small><table border=\"1\" class=\"dataframe\"><thead><tr><th>impressions</th><th>impressions_2</th></tr><tr><td>f64</td><td>f64</td></tr></thead><tbody><tr><td>1465.0</td><td>1465.0</td></tr><tr><td>154.0</td><td>154.0</td></tr><tr><td>1024.0</td><td>1024.0</td></tr><tr><td>1419.0</td><td>1419.0</td></tr><tr><td>198.0</td><td>198.0</td></tr><tr><td>&hellip;</td><td>&hellip;</td></tr><tr><td>986.0</td><td>986.0</td></tr><tr><td>1790.0</td><td>1790.0</td></tr><tr><td>1611.0</td><td>1611.0</td></tr><tr><td>1354.0</td><td>1354.0</td></tr><tr><td>5041.0</td><td>5041.0</td></tr></tbody></table></div>"
      ],
      "text/plain": [
       "shape: (5_791, 2)\n",
       "┌─────────────┬───────────────┐\n",
       "│ impressions ┆ impressions_2 │\n",
       "│ ---         ┆ ---           │\n",
       "│ f64         ┆ f64           │\n",
       "╞═════════════╪═══════════════╡\n",
       "│ 1465.0      ┆ 1465.0        │\n",
       "│ 154.0       ┆ 154.0         │\n",
       "│ 1024.0      ┆ 1024.0        │\n",
       "│ 1419.0      ┆ 1419.0        │\n",
       "│ 198.0       ┆ 198.0         │\n",
       "│ …           ┆ …             │\n",
       "│ 986.0       ┆ 986.0         │\n",
       "│ 1790.0      ┆ 1790.0        │\n",
       "│ 1611.0      ┆ 1611.0        │\n",
       "│ 1354.0      ┆ 1354.0        │\n",
       "│ 5041.0      ┆ 5041.0        │\n",
       "└─────────────┴───────────────┘"
      ]
     },
     "execution_count": 82,
     "metadata": {},
     "output_type": "execute_result"
    }
   ],
   "source": [
    "# Use .suffix .prefix or .alias to remove duplicate names\n",
    "\n",
    "(df\n",
    " .select(['impressions',\n",
    "          pl.col('impressions').alias('impressions_2')\n",
    "         ])\n",
    ")"
   ]
  },
  {
   "cell_type": "code",
   "execution_count": 84,
   "metadata": {
    "scrolled": true
   },
   "outputs": [
    {
     "ename": "InvalidOperationError",
     "evalue": "`quantile` operation not supported for dtype `str`",
     "output_type": "error",
     "traceback": [
      "\u001b[0;31m---------------------------------------------------------------------------\u001b[0m",
      "\u001b[0;31mInvalidOperationError\u001b[0m                     Traceback (most recent call last)",
      "Cell \u001b[0;32mIn[84], line 4\u001b[0m\n\u001b[1;32m      1\u001b[0m \u001b[38;5;66;03m# Try to get inner quantiles\u001b[39;00m\n\u001b[1;32m      2\u001b[0m \u001b[38;5;66;03m# This is horizontally stacked\u001b[39;00m\n\u001b[1;32m      3\u001b[0m (\u001b[43mdf\u001b[49m\n\u001b[0;32m----> 4\u001b[0m \u001b[43m \u001b[49m\u001b[38;5;241;43m.\u001b[39;49m\u001b[43mselect\u001b[49m\u001b[43m(\u001b[49m\u001b[43m[\u001b[49m\n\u001b[1;32m      5\u001b[0m \u001b[43m     \u001b[49m\u001b[43mpl\u001b[49m\u001b[38;5;241;43m.\u001b[39;49m\u001b[43mall\u001b[49m\u001b[43m(\u001b[49m\u001b[43m)\u001b[49m\u001b[38;5;241;43m.\u001b[39;49m\u001b[43mquantile\u001b[49m\u001b[43m(\u001b[49m\u001b[38;5;241;43m.25\u001b[39;49m\u001b[43m)\u001b[49m\u001b[43m,\u001b[49m\n\u001b[1;32m      6\u001b[0m \u001b[43m     \u001b[49m\u001b[43mpl\u001b[49m\u001b[38;5;241;43m.\u001b[39;49m\u001b[43mall\u001b[49m\u001b[43m(\u001b[49m\u001b[43m)\u001b[49m\u001b[38;5;241;43m.\u001b[39;49m\u001b[43mquantile\u001b[49m\u001b[43m(\u001b[49m\u001b[38;5;241;43m.5\u001b[39;49m\u001b[43m)\u001b[49m\u001b[38;5;241;43m.\u001b[39;49m\u001b[43malias\u001b[49m\u001b[43m(\u001b[49m\u001b[38;5;124;43m'\u001b[39;49m\u001b[38;5;124;43mq5\u001b[39;49m\u001b[38;5;124;43m'\u001b[39;49m\u001b[43m)\u001b[49m\u001b[43m,\u001b[49m\n\u001b[1;32m      7\u001b[0m \u001b[43m    \u001b[49m\u001b[43m]\u001b[49m\n\u001b[1;32m      8\u001b[0m \u001b[43m \u001b[49m\u001b[43m)\u001b[49m\n\u001b[1;32m      9\u001b[0m )\n",
      "File \u001b[0;32m~/.python/current/lib/python3.10/site-packages/polars/dataframe/frame.py:8590\u001b[0m, in \u001b[0;36mDataFrame.select\u001b[0;34m(self, *exprs, **named_exprs)\u001b[0m\n\u001b[1;32m   8490\u001b[0m \u001b[38;5;28;01mdef\u001b[39;00m \u001b[38;5;21mselect\u001b[39m(\n\u001b[1;32m   8491\u001b[0m     \u001b[38;5;28mself\u001b[39m, \u001b[38;5;241m*\u001b[39mexprs: IntoExpr \u001b[38;5;241m|\u001b[39m Iterable[IntoExpr], \u001b[38;5;241m*\u001b[39m\u001b[38;5;241m*\u001b[39mnamed_exprs: IntoExpr\n\u001b[1;32m   8492\u001b[0m ) \u001b[38;5;241m-\u001b[39m\u001b[38;5;241m>\u001b[39m DataFrame:\n\u001b[1;32m   8493\u001b[0m \u001b[38;5;250m    \u001b[39m\u001b[38;5;124;03m\"\"\"\u001b[39;00m\n\u001b[1;32m   8494\u001b[0m \u001b[38;5;124;03m    Select columns from this DataFrame.\u001b[39;00m\n\u001b[1;32m   8495\u001b[0m \n\u001b[0;32m   (...)\u001b[0m\n\u001b[1;32m   8588\u001b[0m \u001b[38;5;124;03m    └──────────────┘\u001b[39;00m\n\u001b[1;32m   8589\u001b[0m \u001b[38;5;124;03m    \"\"\"\u001b[39;00m\n\u001b[0;32m-> 8590\u001b[0m     \u001b[38;5;28;01mreturn\u001b[39;00m \u001b[38;5;28;43mself\u001b[39;49m\u001b[38;5;241;43m.\u001b[39;49m\u001b[43mlazy\u001b[49m\u001b[43m(\u001b[49m\u001b[43m)\u001b[49m\u001b[38;5;241;43m.\u001b[39;49m\u001b[43mselect\u001b[49m\u001b[43m(\u001b[49m\u001b[38;5;241;43m*\u001b[39;49m\u001b[43mexprs\u001b[49m\u001b[43m,\u001b[49m\u001b[43m \u001b[49m\u001b[38;5;241;43m*\u001b[39;49m\u001b[38;5;241;43m*\u001b[39;49m\u001b[43mnamed_exprs\u001b[49m\u001b[43m)\u001b[49m\u001b[38;5;241;43m.\u001b[39;49m\u001b[43mcollect\u001b[49m\u001b[43m(\u001b[49m\u001b[43m_eager\u001b[49m\u001b[38;5;241;43m=\u001b[39;49m\u001b[38;5;28;43;01mTrue\u001b[39;49;00m\u001b[43m)\u001b[49m\n",
      "File \u001b[0;32m~/.python/current/lib/python3.10/site-packages/polars/lazyframe/frame.py:1942\u001b[0m, in \u001b[0;36mLazyFrame.collect\u001b[0;34m(self, type_coercion, predicate_pushdown, projection_pushdown, simplify_expression, slice_pushdown, comm_subplan_elim, comm_subexpr_elim, cluster_with_columns, no_optimization, streaming, background, _eager, **_kwargs)\u001b[0m\n\u001b[1;32m   1939\u001b[0m \u001b[38;5;66;03m# Only for testing purposes atm.\u001b[39;00m\n\u001b[1;32m   1940\u001b[0m callback \u001b[38;5;241m=\u001b[39m _kwargs\u001b[38;5;241m.\u001b[39mget(\u001b[38;5;124m\"\u001b[39m\u001b[38;5;124mpost_opt_callback\u001b[39m\u001b[38;5;124m\"\u001b[39m)\n\u001b[0;32m-> 1942\u001b[0m \u001b[38;5;28;01mreturn\u001b[39;00m wrap_df(\u001b[43mldf\u001b[49m\u001b[38;5;241;43m.\u001b[39;49m\u001b[43mcollect\u001b[49m\u001b[43m(\u001b[49m\u001b[43mcallback\u001b[49m\u001b[43m)\u001b[49m)\n",
      "\u001b[0;31mInvalidOperationError\u001b[0m: `quantile` operation not supported for dtype `str`"
     ]
    }
   ],
   "source": [
    "# Try to get inner quantiles\n",
    "# This is horizontally stacked\n",
    "(df\n",
    " .select([\n",
    "     pl.all().quantile(.25),\n",
    "     pl.all().quantile(.5).alias('q5'),\n",
    "    ]\n",
    " )\n",
    ")"
   ]
  },
  {
   "cell_type": "code",
   "execution_count": 85,
   "metadata": {},
   "outputs": [
    {
     "data": {
      "text/html": [
       "<div><style>\n",
       ".dataframe > thead > tr,\n",
       ".dataframe > tbody > tr {\n",
       "  text-align: right;\n",
       "  white-space: pre-wrap;\n",
       "}\n",
       "</style>\n",
       "<small>shape: (1, 40)</small><table border=\"1\" class=\"dataframe\"><thead><tr><th>Tweet id</th><th>Tweet permalink</th><th>Tweet text</th><th>time</th><th>impressions</th><th>engagements</th><th>engagement rate</th><th>retweets</th><th>replies</th><th>likes</th><th>user profile clicks</th><th>url clicks</th><th>hashtag clicks</th><th>detail expands</th><th>permalink clicks</th><th>app opens</th><th>app installs</th><th>follows</th><th>email tweet</th><th>dial phone</th><th>media views</th><th>media engagements</th><th>promoted impressions</th><th>promoted engagements</th><th>promoted engagement rate</th><th>promoted retweets</th><th>promoted replies</th><th>promoted likes</th><th>promoted user profile clicks</th><th>promoted url clicks</th><th>promoted hashtag clicks</th><th>promoted detail expands</th><th>promoted permalink clicks</th><th>promoted app opens</th><th>promoted app installs</th><th>promoted follows</th><th>promoted email tweet</th><th>promoted dial phone</th><th>promoted media views</th><th>promoted media engagements</th></tr><tr><td>f64</td><td>str</td><td>str</td><td>str</td><td>f64</td><td>f64</td><td>f64</td><td>f64</td><td>f64</td><td>f64</td><td>f64</td><td>f64</td><td>f64</td><td>f64</td><td>f64</td><td>f64</td><td>f64</td><td>f64</td><td>f64</td><td>f64</td><td>f64</td><td>f64</td><td>str</td><td>str</td><td>str</td><td>str</td><td>str</td><td>str</td><td>str</td><td>str</td><td>str</td><td>str</td><td>str</td><td>str</td><td>str</td><td>str</td><td>str</td><td>str</td><td>str</td><td>str</td></tr></thead><tbody><tr><td>1.2126e18</td><td>null</td><td>null</td><td>null</td><td>7.0</td><td>0.0</td><td>0.0</td><td>0.0</td><td>0.0</td><td>0.0</td><td>0.0</td><td>0.0</td><td>0.0</td><td>0.0</td><td>0.0</td><td>0.0</td><td>0.0</td><td>0.0</td><td>0.0</td><td>0.0</td><td>0.0</td><td>0.0</td><td>null</td><td>null</td><td>null</td><td>null</td><td>null</td><td>null</td><td>null</td><td>null</td><td>null</td><td>null</td><td>null</td><td>null</td><td>null</td><td>null</td><td>null</td><td>null</td><td>null</td><td>null</td></tr></tbody></table></div>"
      ],
      "text/plain": [
       "shape: (1, 40)\n",
       "┌───────────┬─────────────┬───────┬──────┬───┬─────────────┬─────────────┬────────────┬────────────┐\n",
       "│ Tweet id  ┆ Tweet       ┆ Tweet ┆ time ┆ … ┆ promoted    ┆ promoted    ┆ promoted   ┆ promoted   │\n",
       "│ ---       ┆ permalink   ┆ text  ┆ ---  ┆   ┆ email tweet ┆ dial phone  ┆ media      ┆ media enga │\n",
       "│ f64       ┆ ---         ┆ ---   ┆ str  ┆   ┆ ---         ┆ ---         ┆ views      ┆ gements    │\n",
       "│           ┆ str         ┆ str   ┆      ┆   ┆ str         ┆ str         ┆ ---        ┆ ---        │\n",
       "│           ┆             ┆       ┆      ┆   ┆             ┆             ┆ str        ┆ str        │\n",
       "╞═══════════╪═════════════╪═══════╪══════╪═══╪═════════════╪═════════════╪════════════╪════════════╡\n",
       "│ 1.2126e18 ┆ null        ┆ null  ┆ null ┆ … ┆ null        ┆ null        ┆ null       ┆ null       │\n",
       "└───────────┴─────────────┴───────┴──────┴───┴─────────────┴─────────────┴────────────┴────────────┘"
      ]
     },
     "execution_count": 85,
     "metadata": {},
     "output_type": "execute_result"
    }
   ],
   "source": [
    "df.quantile(0)"
   ]
  },
  {
   "cell_type": "code",
   "execution_count": 86,
   "metadata": {
    "scrolled": true
   },
   "outputs": [
    {
     "data": {
      "text/html": [
       "<div><style>\n",
       ".dataframe > thead > tr,\n",
       ".dataframe > tbody > tr {\n",
       "  text-align: right;\n",
       "  white-space: pre-wrap;\n",
       "}\n",
       "</style>\n",
       "<small>shape: (1, 41)</small><table border=\"1\" class=\"dataframe\"><thead><tr><th>Tweet id</th><th>Tweet permalink</th><th>Tweet text</th><th>time</th><th>impressions</th><th>engagements</th><th>engagement rate</th><th>retweets</th><th>replies</th><th>likes</th><th>user profile clicks</th><th>url clicks</th><th>hashtag clicks</th><th>detail expands</th><th>permalink clicks</th><th>app opens</th><th>app installs</th><th>follows</th><th>email tweet</th><th>dial phone</th><th>media views</th><th>media engagements</th><th>promoted impressions</th><th>promoted engagements</th><th>promoted engagement rate</th><th>promoted retweets</th><th>promoted replies</th><th>promoted likes</th><th>promoted user profile clicks</th><th>promoted url clicks</th><th>promoted hashtag clicks</th><th>promoted detail expands</th><th>promoted permalink clicks</th><th>promoted app opens</th><th>promoted app installs</th><th>promoted follows</th><th>promoted email tweet</th><th>promoted dial phone</th><th>promoted media views</th><th>promoted media engagements</th><th>Describe</th></tr><tr><td>f64</td><td>str</td><td>str</td><td>str</td><td>f64</td><td>f64</td><td>f64</td><td>f64</td><td>f64</td><td>f64</td><td>f64</td><td>f64</td><td>f64</td><td>f64</td><td>f64</td><td>f64</td><td>f64</td><td>f64</td><td>f64</td><td>f64</td><td>f64</td><td>f64</td><td>str</td><td>str</td><td>str</td><td>str</td><td>str</td><td>str</td><td>str</td><td>str</td><td>str</td><td>str</td><td>str</td><td>str</td><td>str</td><td>str</td><td>str</td><td>str</td><td>str</td><td>str</td><td>str</td></tr></thead><tbody><tr><td>1.2126e18</td><td>null</td><td>null</td><td>null</td><td>7.0</td><td>0.0</td><td>0.0</td><td>0.0</td><td>0.0</td><td>0.0</td><td>0.0</td><td>0.0</td><td>0.0</td><td>0.0</td><td>0.0</td><td>0.0</td><td>0.0</td><td>0.0</td><td>0.0</td><td>0.0</td><td>0.0</td><td>0.0</td><td>null</td><td>null</td><td>null</td><td>null</td><td>null</td><td>null</td><td>null</td><td>null</td><td>null</td><td>null</td><td>null</td><td>null</td><td>null</td><td>null</td><td>null</td><td>null</td><td>null</td><td>null</td><td>&quot;Q0&quot;</td></tr></tbody></table></div>"
      ],
      "text/plain": [
       "shape: (1, 41)\n",
       "┌───────────┬────────────┬────────────┬──────┬───┬────────────┬────────────┬────────────┬──────────┐\n",
       "│ Tweet id  ┆ Tweet      ┆ Tweet text ┆ time ┆ … ┆ promoted   ┆ promoted   ┆ promoted   ┆ Describe │\n",
       "│ ---       ┆ permalink  ┆ ---        ┆ ---  ┆   ┆ dial phone ┆ media      ┆ media enga ┆ ---      │\n",
       "│ f64       ┆ ---        ┆ str        ┆ str  ┆   ┆ ---        ┆ views      ┆ gements    ┆ str      │\n",
       "│           ┆ str        ┆            ┆      ┆   ┆ str        ┆ ---        ┆ ---        ┆          │\n",
       "│           ┆            ┆            ┆      ┆   ┆            ┆ str        ┆ str        ┆          │\n",
       "╞═══════════╪════════════╪════════════╪══════╪═══╪════════════╪════════════╪════════════╪══════════╡\n",
       "│ 1.2126e18 ┆ null       ┆ null       ┆ null ┆ … ┆ null       ┆ null       ┆ null       ┆ Q0       │\n",
       "└───────────┴────────────┴────────────┴──────┴───┴────────────┴────────────┴────────────┴──────────┘"
      ]
     },
     "execution_count": 86,
     "metadata": {},
     "output_type": "execute_result"
    }
   ],
   "source": [
    "# Add Describe column\n",
    "(df\n",
    " .quantile(0)\n",
    " .with_columns(pl.lit('Q0').alias('Describe'))\n",
    ")"
   ]
  },
  {
   "cell_type": "code",
   "execution_count": 87,
   "metadata": {
    "scrolled": true
   },
   "outputs": [
    {
     "ename": "InvalidOperationError",
     "evalue": "`quantile` operation not supported for dtype `str`",
     "output_type": "error",
     "traceback": [
      "\u001b[0;31m---------------------------------------------------------------------------\u001b[0m",
      "\u001b[0;31mInvalidOperationError\u001b[0m                     Traceback (most recent call last)",
      "Cell \u001b[0;32mIn[87], line 3\u001b[0m\n\u001b[1;32m      1\u001b[0m \u001b[38;5;66;03m# Add Describe column\u001b[39;00m\n\u001b[1;32m      2\u001b[0m (\u001b[43mdf\u001b[49m\n\u001b[0;32m----> 3\u001b[0m \u001b[43m \u001b[49m\u001b[38;5;241;43m.\u001b[39;49m\u001b[43mselect\u001b[49m\u001b[43m(\u001b[49m\u001b[43m[\u001b[49m\n\u001b[1;32m      4\u001b[0m \u001b[43m     \u001b[49m\u001b[43mpl\u001b[49m\u001b[38;5;241;43m.\u001b[39;49m\u001b[43mlit\u001b[49m\u001b[43m(\u001b[49m\u001b[38;5;124;43m'\u001b[39;49m\u001b[38;5;124;43mQ0\u001b[39;49m\u001b[38;5;124;43m'\u001b[39;49m\u001b[43m)\u001b[49m\u001b[38;5;241;43m.\u001b[39;49m\u001b[43malias\u001b[49m\u001b[43m(\u001b[49m\u001b[38;5;124;43m'\u001b[39;49m\u001b[38;5;124;43mDescribe\u001b[39;49m\u001b[38;5;124;43m'\u001b[39;49m\u001b[43m)\u001b[49m\u001b[43m,\u001b[49m\n\u001b[1;32m      5\u001b[0m \u001b[43m     \u001b[49m\u001b[43mpl\u001b[49m\u001b[38;5;241;43m.\u001b[39;49m\u001b[43mcol\u001b[49m\u001b[43m(\u001b[49m\u001b[38;5;124;43m'\u001b[39;49m\u001b[38;5;124;43m*\u001b[39;49m\u001b[38;5;124;43m'\u001b[39;49m\u001b[43m)\u001b[49m\u001b[38;5;241;43m.\u001b[39;49m\u001b[43mquantile\u001b[49m\u001b[43m(\u001b[49m\u001b[38;5;241;43m0\u001b[39;49m\u001b[43m)\u001b[49m\n\u001b[1;32m      6\u001b[0m \u001b[43m \u001b[49m\u001b[43m]\u001b[49m\u001b[43m)\u001b[49m\n\u001b[1;32m      7\u001b[0m )\n",
      "File \u001b[0;32m~/.python/current/lib/python3.10/site-packages/polars/dataframe/frame.py:8590\u001b[0m, in \u001b[0;36mDataFrame.select\u001b[0;34m(self, *exprs, **named_exprs)\u001b[0m\n\u001b[1;32m   8490\u001b[0m \u001b[38;5;28;01mdef\u001b[39;00m \u001b[38;5;21mselect\u001b[39m(\n\u001b[1;32m   8491\u001b[0m     \u001b[38;5;28mself\u001b[39m, \u001b[38;5;241m*\u001b[39mexprs: IntoExpr \u001b[38;5;241m|\u001b[39m Iterable[IntoExpr], \u001b[38;5;241m*\u001b[39m\u001b[38;5;241m*\u001b[39mnamed_exprs: IntoExpr\n\u001b[1;32m   8492\u001b[0m ) \u001b[38;5;241m-\u001b[39m\u001b[38;5;241m>\u001b[39m DataFrame:\n\u001b[1;32m   8493\u001b[0m \u001b[38;5;250m    \u001b[39m\u001b[38;5;124;03m\"\"\"\u001b[39;00m\n\u001b[1;32m   8494\u001b[0m \u001b[38;5;124;03m    Select columns from this DataFrame.\u001b[39;00m\n\u001b[1;32m   8495\u001b[0m \n\u001b[0;32m   (...)\u001b[0m\n\u001b[1;32m   8588\u001b[0m \u001b[38;5;124;03m    └──────────────┘\u001b[39;00m\n\u001b[1;32m   8589\u001b[0m \u001b[38;5;124;03m    \"\"\"\u001b[39;00m\n\u001b[0;32m-> 8590\u001b[0m     \u001b[38;5;28;01mreturn\u001b[39;00m \u001b[38;5;28;43mself\u001b[39;49m\u001b[38;5;241;43m.\u001b[39;49m\u001b[43mlazy\u001b[49m\u001b[43m(\u001b[49m\u001b[43m)\u001b[49m\u001b[38;5;241;43m.\u001b[39;49m\u001b[43mselect\u001b[49m\u001b[43m(\u001b[49m\u001b[38;5;241;43m*\u001b[39;49m\u001b[43mexprs\u001b[49m\u001b[43m,\u001b[49m\u001b[43m \u001b[49m\u001b[38;5;241;43m*\u001b[39;49m\u001b[38;5;241;43m*\u001b[39;49m\u001b[43mnamed_exprs\u001b[49m\u001b[43m)\u001b[49m\u001b[38;5;241;43m.\u001b[39;49m\u001b[43mcollect\u001b[49m\u001b[43m(\u001b[49m\u001b[43m_eager\u001b[49m\u001b[38;5;241;43m=\u001b[39;49m\u001b[38;5;28;43;01mTrue\u001b[39;49;00m\u001b[43m)\u001b[49m\n",
      "File \u001b[0;32m~/.python/current/lib/python3.10/site-packages/polars/lazyframe/frame.py:1942\u001b[0m, in \u001b[0;36mLazyFrame.collect\u001b[0;34m(self, type_coercion, predicate_pushdown, projection_pushdown, simplify_expression, slice_pushdown, comm_subplan_elim, comm_subexpr_elim, cluster_with_columns, no_optimization, streaming, background, _eager, **_kwargs)\u001b[0m\n\u001b[1;32m   1939\u001b[0m \u001b[38;5;66;03m# Only for testing purposes atm.\u001b[39;00m\n\u001b[1;32m   1940\u001b[0m callback \u001b[38;5;241m=\u001b[39m _kwargs\u001b[38;5;241m.\u001b[39mget(\u001b[38;5;124m\"\u001b[39m\u001b[38;5;124mpost_opt_callback\u001b[39m\u001b[38;5;124m\"\u001b[39m)\n\u001b[0;32m-> 1942\u001b[0m \u001b[38;5;28;01mreturn\u001b[39;00m wrap_df(\u001b[43mldf\u001b[49m\u001b[38;5;241;43m.\u001b[39;49m\u001b[43mcollect\u001b[49m\u001b[43m(\u001b[49m\u001b[43mcallback\u001b[49m\u001b[43m)\u001b[49m)\n",
      "\u001b[0;31mInvalidOperationError\u001b[0m: `quantile` operation not supported for dtype `str`"
     ]
    }
   ],
   "source": [
    "# Add Describe column\n",
    "(df\n",
    " .select([\n",
    "     pl.lit('Q0').alias('Describe'),\n",
    "     pl.col('*').quantile(0)\n",
    " ])\n",
    ")"
   ]
  },
  {
   "cell_type": "code",
   "execution_count": 88,
   "metadata": {
    "scrolled": false
   },
   "outputs": [
    {
     "ename": "ShapeError",
     "evalue": "unable to vstack, column names don't match: \"describe\" and \"statistic\"",
     "output_type": "error",
     "traceback": [
      "\u001b[0;31m---------------------------------------------------------------------------\u001b[0m",
      "\u001b[0;31mShapeError\u001b[0m                                Traceback (most recent call last)",
      "Cell \u001b[0;32mIn[88], line 2\u001b[0m\n\u001b[1;32m      1\u001b[0m \u001b[38;5;66;03m# Emulate Pandas describe functionality\u001b[39;00m\n\u001b[0;32m----> 2\u001b[0m (\u001b[43mpl\u001b[49m\n\u001b[1;32m      3\u001b[0m \u001b[43m \u001b[49m\u001b[38;5;241;43m.\u001b[39;49m\u001b[43mconcat\u001b[49m\u001b[43m(\u001b[49m\n\u001b[1;32m      4\u001b[0m \u001b[43m    \u001b[49m\u001b[43m[\u001b[49m\u001b[38;5;241;43m*\u001b[39;49m\u001b[43m[\u001b[49m\u001b[43mdf\u001b[49m\n\u001b[1;32m      5\u001b[0m \u001b[43m        \u001b[49m\u001b[38;5;241;43m.\u001b[39;49m\u001b[43mquantile\u001b[49m\u001b[43m(\u001b[49m\u001b[43mval\u001b[49m\u001b[43m)\u001b[49m\n\u001b[1;32m      6\u001b[0m \u001b[43m        \u001b[49m\u001b[38;5;241;43m.\u001b[39;49m\u001b[43mwith_columns\u001b[49m\u001b[43m(\u001b[49m\u001b[43mpl\u001b[49m\u001b[38;5;241;43m.\u001b[39;49m\u001b[43mlit\u001b[49m\u001b[43m(\u001b[49m\u001b[38;5;124;43mf\u001b[39;49m\u001b[38;5;124;43m'\u001b[39;49m\u001b[38;5;124;43mQ\u001b[39;49m\u001b[38;5;132;43;01m{\u001b[39;49;00m\u001b[43mval\u001b[49m\u001b[38;5;132;43;01m}\u001b[39;49;00m\u001b[38;5;124;43m'\u001b[39;49m\u001b[43m)\u001b[49m\u001b[38;5;241;43m.\u001b[39;49m\u001b[43malias\u001b[49m\u001b[43m(\u001b[49m\u001b[38;5;124;43m'\u001b[39;49m\u001b[38;5;124;43mdescribe\u001b[39;49m\u001b[38;5;124;43m'\u001b[39;49m\u001b[43m)\u001b[49m\u001b[43m)\u001b[49m\n\u001b[1;32m      7\u001b[0m \u001b[43m        \u001b[49m\u001b[38;5;241;43m.\u001b[39;49m\u001b[43mselect\u001b[49m\u001b[43m(\u001b[49m\u001b[43m[\u001b[49m\u001b[38;5;124;43m'\u001b[39;49m\u001b[38;5;124;43mdescribe\u001b[39;49m\u001b[38;5;124;43m'\u001b[39;49m\u001b[43m,\u001b[49m\u001b[43m \u001b[49m\u001b[38;5;124;43m'\u001b[39;49m\u001b[38;5;124;43mTweet id\u001b[39;49m\u001b[38;5;124;43m'\u001b[39;49m\u001b[43m,\u001b[49m\u001b[43m \u001b[49m\u001b[38;5;124;43m'\u001b[39;49m\u001b[38;5;124;43mTweet permalink\u001b[39;49m\u001b[38;5;124;43m'\u001b[39;49m\u001b[43m,\u001b[49m\u001b[43m \u001b[49m\u001b[38;5;124;43m'\u001b[39;49m\u001b[38;5;124;43mTweet text\u001b[39;49m\u001b[38;5;124;43m'\u001b[39;49m\u001b[43m,\u001b[49m\u001b[43m \u001b[49m\u001b[38;5;124;43m'\u001b[39;49m\u001b[38;5;124;43mtime\u001b[39;49m\u001b[38;5;124;43m'\u001b[39;49m\u001b[43m,\u001b[49m\u001b[43m \u001b[49m\u001b[38;5;124;43m'\u001b[39;49m\u001b[38;5;124;43mimpressions\u001b[39;49m\u001b[38;5;124;43m'\u001b[39;49m\u001b[43m,\u001b[49m\u001b[43m \u001b[49m\n\u001b[1;32m      8\u001b[0m \u001b[43m                 \u001b[49m\u001b[38;5;124;43m'\u001b[39;49m\u001b[38;5;124;43mengagements\u001b[39;49m\u001b[38;5;124;43m'\u001b[39;49m\u001b[43m,\u001b[49m\u001b[43m \u001b[49m\u001b[38;5;124;43m'\u001b[39;49m\u001b[38;5;124;43mengagement rate\u001b[39;49m\u001b[38;5;124;43m'\u001b[39;49m\u001b[43m,\u001b[49m\u001b[43m \u001b[49m\u001b[38;5;124;43m'\u001b[39;49m\u001b[38;5;124;43mretweets\u001b[39;49m\u001b[38;5;124;43m'\u001b[39;49m\u001b[43m,\u001b[49m\u001b[43m \u001b[49m\u001b[38;5;124;43m'\u001b[39;49m\u001b[38;5;124;43mreplies\u001b[39;49m\u001b[38;5;124;43m'\u001b[39;49m\u001b[43m,\u001b[49m\u001b[43m \u001b[49m\u001b[38;5;124;43m'\u001b[39;49m\u001b[38;5;124;43mlikes\u001b[39;49m\u001b[38;5;124;43m'\u001b[39;49m\u001b[43m,\u001b[49m\u001b[43m \u001b[49m\u001b[38;5;124;43m'\u001b[39;49m\u001b[38;5;124;43muser profile clicks\u001b[39;49m\u001b[38;5;124;43m'\u001b[39;49m\u001b[43m,\u001b[49m\u001b[43m \u001b[49m\n\u001b[1;32m      9\u001b[0m \u001b[43m                 \u001b[49m\u001b[38;5;124;43m'\u001b[39;49m\u001b[38;5;124;43murl clicks\u001b[39;49m\u001b[38;5;124;43m'\u001b[39;49m\u001b[43m,\u001b[49m\u001b[43m \u001b[49m\u001b[38;5;124;43m'\u001b[39;49m\u001b[38;5;124;43mhashtag clicks\u001b[39;49m\u001b[38;5;124;43m'\u001b[39;49m\u001b[43m,\u001b[49m\u001b[43m \u001b[49m\u001b[38;5;124;43m'\u001b[39;49m\u001b[38;5;124;43mdetail expands\u001b[39;49m\u001b[38;5;124;43m'\u001b[39;49m\u001b[43m,\u001b[49m\u001b[43m \u001b[49m\u001b[38;5;124;43m'\u001b[39;49m\u001b[38;5;124;43mpermalink clicks\u001b[39;49m\u001b[38;5;124;43m'\u001b[39;49m\u001b[43m,\u001b[49m\u001b[43m \u001b[49m\u001b[38;5;124;43m'\u001b[39;49m\u001b[38;5;124;43mapp opens\u001b[39;49m\u001b[38;5;124;43m'\u001b[39;49m\u001b[43m,\u001b[49m\u001b[43m \u001b[49m\n\u001b[1;32m     10\u001b[0m \u001b[43m                 \u001b[49m\u001b[38;5;124;43m'\u001b[39;49m\u001b[38;5;124;43mapp installs\u001b[39;49m\u001b[38;5;124;43m'\u001b[39;49m\u001b[43m,\u001b[49m\u001b[43m \u001b[49m\u001b[38;5;124;43m'\u001b[39;49m\u001b[38;5;124;43mfollows\u001b[39;49m\u001b[38;5;124;43m'\u001b[39;49m\u001b[43m,\u001b[49m\u001b[43m \u001b[49m\u001b[38;5;124;43m'\u001b[39;49m\u001b[38;5;124;43memail tweet\u001b[39;49m\u001b[38;5;124;43m'\u001b[39;49m\u001b[43m,\u001b[49m\u001b[43m \u001b[49m\u001b[38;5;124;43m'\u001b[39;49m\u001b[38;5;124;43mdial phone\u001b[39;49m\u001b[38;5;124;43m'\u001b[39;49m\u001b[43m,\u001b[49m\u001b[43m \u001b[49m\u001b[38;5;124;43m'\u001b[39;49m\u001b[38;5;124;43mmedia views\u001b[39;49m\u001b[38;5;124;43m'\u001b[39;49m\u001b[43m,\u001b[49m\u001b[43m \u001b[49m\n\u001b[1;32m     11\u001b[0m \u001b[43m                 \u001b[49m\u001b[38;5;124;43m'\u001b[39;49m\u001b[38;5;124;43mmedia engagements\u001b[39;49m\u001b[38;5;124;43m'\u001b[39;49m\u001b[43m,\u001b[49m\u001b[43m \u001b[49m\u001b[38;5;124;43m'\u001b[39;49m\u001b[38;5;124;43mpromoted impressions\u001b[39;49m\u001b[38;5;124;43m'\u001b[39;49m\u001b[43m,\u001b[49m\u001b[43m \u001b[49m\u001b[38;5;124;43m'\u001b[39;49m\u001b[38;5;124;43mpromoted engagements\u001b[39;49m\u001b[38;5;124;43m'\u001b[39;49m\u001b[43m,\u001b[49m\u001b[43m \u001b[49m\n\u001b[1;32m     12\u001b[0m \u001b[43m                 \u001b[49m\u001b[38;5;124;43m'\u001b[39;49m\u001b[38;5;124;43mpromoted engagement rate\u001b[39;49m\u001b[38;5;124;43m'\u001b[39;49m\u001b[43m,\u001b[49m\u001b[43m \u001b[49m\u001b[38;5;124;43m'\u001b[39;49m\u001b[38;5;124;43mpromoted retweets\u001b[39;49m\u001b[38;5;124;43m'\u001b[39;49m\u001b[43m,\u001b[49m\u001b[43m \u001b[49m\u001b[38;5;124;43m'\u001b[39;49m\u001b[38;5;124;43mpromoted replies\u001b[39;49m\u001b[38;5;124;43m'\u001b[39;49m\u001b[43m,\u001b[49m\u001b[43m \u001b[49m\u001b[38;5;124;43m'\u001b[39;49m\u001b[38;5;124;43mpromoted likes\u001b[39;49m\u001b[38;5;124;43m'\u001b[39;49m\u001b[43m,\u001b[49m\u001b[43m \u001b[49m\n\u001b[1;32m     13\u001b[0m \u001b[43m                 \u001b[49m\u001b[38;5;124;43m'\u001b[39;49m\u001b[38;5;124;43mpromoted user profile clicks\u001b[39;49m\u001b[38;5;124;43m'\u001b[39;49m\u001b[43m,\u001b[49m\u001b[43m \u001b[49m\u001b[38;5;124;43m'\u001b[39;49m\u001b[38;5;124;43mpromoted url clicks\u001b[39;49m\u001b[38;5;124;43m'\u001b[39;49m\u001b[43m,\u001b[49m\u001b[43m \u001b[49m\u001b[38;5;124;43m'\u001b[39;49m\u001b[38;5;124;43mpromoted hashtag clicks\u001b[39;49m\u001b[38;5;124;43m'\u001b[39;49m\u001b[43m,\u001b[49m\u001b[43m \u001b[49m\n\u001b[1;32m     14\u001b[0m \u001b[43m                 \u001b[49m\u001b[38;5;124;43m'\u001b[39;49m\u001b[38;5;124;43mpromoted detail expands\u001b[39;49m\u001b[38;5;124;43m'\u001b[39;49m\u001b[43m,\u001b[49m\u001b[43m \u001b[49m\u001b[38;5;124;43m'\u001b[39;49m\u001b[38;5;124;43mpromoted permalink clicks\u001b[39;49m\u001b[38;5;124;43m'\u001b[39;49m\u001b[43m,\u001b[49m\u001b[43m \u001b[49m\u001b[38;5;124;43m'\u001b[39;49m\u001b[38;5;124;43mpromoted app opens\u001b[39;49m\u001b[38;5;124;43m'\u001b[39;49m\u001b[43m,\u001b[49m\u001b[43m \u001b[49m\n\u001b[1;32m     15\u001b[0m \u001b[43m                 \u001b[49m\u001b[38;5;124;43m'\u001b[39;49m\u001b[38;5;124;43mpromoted app installs\u001b[39;49m\u001b[38;5;124;43m'\u001b[39;49m\u001b[43m,\u001b[49m\u001b[43m \u001b[49m\u001b[38;5;124;43m'\u001b[39;49m\u001b[38;5;124;43mpromoted follows\u001b[39;49m\u001b[38;5;124;43m'\u001b[39;49m\u001b[43m,\u001b[49m\u001b[43m \u001b[49m\u001b[38;5;124;43m'\u001b[39;49m\u001b[38;5;124;43mpromoted email tweet\u001b[39;49m\u001b[38;5;124;43m'\u001b[39;49m\u001b[43m,\u001b[49m\u001b[43m \u001b[49m\n\u001b[1;32m     16\u001b[0m \u001b[43m                 \u001b[49m\u001b[38;5;124;43m'\u001b[39;49m\u001b[38;5;124;43mpromoted dial phone\u001b[39;49m\u001b[38;5;124;43m'\u001b[39;49m\u001b[43m,\u001b[49m\u001b[43m \u001b[49m\u001b[38;5;124;43m'\u001b[39;49m\u001b[38;5;124;43mpromoted media views\u001b[39;49m\u001b[38;5;124;43m'\u001b[39;49m\u001b[43m,\u001b[49m\u001b[43m \u001b[49m\u001b[38;5;124;43m'\u001b[39;49m\u001b[38;5;124;43mpromoted media engagements\u001b[39;49m\u001b[38;5;124;43m'\u001b[39;49m\u001b[43m]\u001b[49m\u001b[43m)\u001b[49m\n\u001b[1;32m     17\u001b[0m \u001b[43m        \u001b[49m\u001b[38;5;28;43;01mfor\u001b[39;49;00m\u001b[43m \u001b[49m\u001b[43mval\u001b[49m\u001b[43m \u001b[49m\u001b[38;5;129;43;01min\u001b[39;49;00m\u001b[43m \u001b[49m\u001b[43m[\u001b[49m\u001b[38;5;241;43m0\u001b[39;49m\u001b[43m,\u001b[49m\u001b[43m \u001b[49m\u001b[38;5;241;43m.25\u001b[39;49m\u001b[43m,\u001b[49m\u001b[43m \u001b[49m\u001b[38;5;241;43m.5\u001b[39;49m\u001b[43m,\u001b[49m\u001b[43m \u001b[49m\u001b[38;5;241;43m.75\u001b[39;49m\u001b[43m,\u001b[49m\u001b[43m \u001b[49m\u001b[38;5;241;43m1\u001b[39;49m\u001b[43m]\u001b[49m\u001b[43m]\u001b[49m\u001b[43m,\u001b[49m\n\u001b[1;32m     18\u001b[0m \u001b[43m     \u001b[49m\u001b[43mdf\u001b[49m\u001b[38;5;241;43m.\u001b[39;49m\u001b[43mdescribe\u001b[49m\u001b[43m(\u001b[49m\u001b[43m)\u001b[49m\n\u001b[1;32m     19\u001b[0m \u001b[43m    \u001b[49m\u001b[43m]\u001b[49m\u001b[43m,\u001b[49m\n\u001b[1;32m     20\u001b[0m \u001b[43m    \u001b[49m\u001b[43mhow\u001b[49m\u001b[38;5;241;43m=\u001b[39;49m\u001b[38;5;124;43m'\u001b[39;49m\u001b[38;5;124;43mvertical\u001b[39;49m\u001b[38;5;124;43m'\u001b[39;49m\n\u001b[1;32m     21\u001b[0m \u001b[43m    \u001b[49m\u001b[43m)\u001b[49m\n\u001b[1;32m     22\u001b[0m )\n",
      "File \u001b[0;32m~/.python/current/lib/python3.10/site-packages/polars/functions/eager.py:182\u001b[0m, in \u001b[0;36mconcat\u001b[0;34m(items, how, rechunk, parallel)\u001b[0m\n\u001b[1;32m    180\u001b[0m \u001b[38;5;28;01mif\u001b[39;00m \u001b[38;5;28misinstance\u001b[39m(first, pl\u001b[38;5;241m.\u001b[39mDataFrame):\n\u001b[1;32m    181\u001b[0m     \u001b[38;5;28;01mif\u001b[39;00m how \u001b[38;5;241m==\u001b[39m \u001b[38;5;124m\"\u001b[39m\u001b[38;5;124mvertical\u001b[39m\u001b[38;5;124m\"\u001b[39m:\n\u001b[0;32m--> 182\u001b[0m         out \u001b[38;5;241m=\u001b[39m wrap_df(\u001b[43mplr\u001b[49m\u001b[38;5;241;43m.\u001b[39;49m\u001b[43mconcat_df\u001b[49m\u001b[43m(\u001b[49m\u001b[43melems\u001b[49m\u001b[43m)\u001b[49m)\n\u001b[1;32m    183\u001b[0m     \u001b[38;5;28;01melif\u001b[39;00m how \u001b[38;5;241m==\u001b[39m \u001b[38;5;124m\"\u001b[39m\u001b[38;5;124mvertical_relaxed\u001b[39m\u001b[38;5;124m\"\u001b[39m:\n\u001b[1;32m    184\u001b[0m         out \u001b[38;5;241m=\u001b[39m wrap_ldf(\n\u001b[1;32m    185\u001b[0m             plr\u001b[38;5;241m.\u001b[39mconcat_lf(\n\u001b[1;32m    186\u001b[0m                 [df\u001b[38;5;241m.\u001b[39mlazy() \u001b[38;5;28;01mfor\u001b[39;00m df \u001b[38;5;129;01min\u001b[39;00m elems],\n\u001b[0;32m   (...)\u001b[0m\n\u001b[1;32m    190\u001b[0m             )\n\u001b[1;32m    191\u001b[0m         )\u001b[38;5;241m.\u001b[39mcollect(no_optimization\u001b[38;5;241m=\u001b[39m\u001b[38;5;28;01mTrue\u001b[39;00m)\n",
      "\u001b[0;31mShapeError\u001b[0m: unable to vstack, column names don't match: \"describe\" and \"statistic\""
     ]
    }
   ],
   "source": [
    "# Emulate Pandas describe functionality\n",
    "(pl\n",
    " .concat(\n",
    "    [*[df\n",
    "        .quantile(val)\n",
    "        .with_columns(pl.lit(f'Q{val}').alias('describe'))\n",
    "        .select(['describe', 'Tweet id', 'Tweet permalink', 'Tweet text', 'time', 'impressions', \n",
    "                 'engagements', 'engagement rate', 'retweets', 'replies', 'likes', 'user profile clicks', \n",
    "                 'url clicks', 'hashtag clicks', 'detail expands', 'permalink clicks', 'app opens', \n",
    "                 'app installs', 'follows', 'email tweet', 'dial phone', 'media views', \n",
    "                 'media engagements', 'promoted impressions', 'promoted engagements', \n",
    "                 'promoted engagement rate', 'promoted retweets', 'promoted replies', 'promoted likes', \n",
    "                 'promoted user profile clicks', 'promoted url clicks', 'promoted hashtag clicks', \n",
    "                 'promoted detail expands', 'promoted permalink clicks', 'promoted app opens', \n",
    "                 'promoted app installs', 'promoted follows', 'promoted email tweet', \n",
    "                 'promoted dial phone', 'promoted media views', 'promoted media engagements'])\n",
    "        for val in [0, .25, .5, .75, 1]],\n",
    "     df.describe()\n",
    "    ],\n",
    "    how='vertical'\n",
    "    )\n",
    ")"
   ]
  },
  {
   "cell_type": "code",
   "execution_count": null,
   "metadata": {
    "scrolled": true
   },
   "outputs": [],
   "source": [
    "# Hard to currently do this with expressions because they are column oriented\n",
    "# (We are trying to make rows)\n",
    "\n",
    "(df\n",
    " .select([\n",
    "    pl.col([\"time\", \"impressions\"]).quantile(q).suffix(f\"_q{q}\") for q in [0, 0.25, 1.0]\n",
    "])\n",
    " .transpose(include_header=True, column_names=['name', 'val']) \n",
    ")"
   ]
  },
  {
   "cell_type": "code",
   "execution_count": null,
   "metadata": {},
   "outputs": [],
   "source": [
    "# Refactor into function\n",
    "# Can we make this lazy?\n",
    "def pd_describe(a_df):\n",
    "    cols = ['describe', *a_df.columns]\n",
    "    return (pl.concat(\n",
    "        [*[a_df\n",
    "            .quantile(val)\n",
    "            .with_columns(pl.lit(f'Q{val}').alias('describe'))\n",
    "            .select(cols)\n",
    "            for val in [0, .25, .5, .75, 1]],\n",
    "         a_df.describe()\n",
    "        ],\n",
    "        how='vertical'\n",
    "        )\n",
    "    )\n",
    "\n",
    "df.pipe(pd_describe)"
   ]
  },
  {
   "cell_type": "code",
   "execution_count": null,
   "metadata": {
    "scrolled": true
   },
   "outputs": [],
   "source": [
    "# select dtypes\n",
    "df.select(pl.col(pl.Int64))"
   ]
  },
  {
   "cell_type": "code",
   "execution_count": null,
   "metadata": {
    "scrolled": true
   },
   "outputs": [],
   "source": [
    "# select dtypes\n",
    "# look at max values\n",
    "(df\n",
    " .select(pl.col(pl.Int64))\n",
    " .pipe(pd_describe)\n",
    ")"
   ]
  },
  {
   "cell_type": "code",
   "execution_count": null,
   "metadata": {
    "scrolled": true
   },
   "outputs": [],
   "source": [
    "# impressions is a float, can we convert to int?\n",
    "df['impressions']"
   ]
  },
  {
   "cell_type": "code",
   "execution_count": null,
   "metadata": {
    "scrolled": true
   },
   "outputs": [],
   "source": [
    "df['impressions'].cast(pl.Int32)"
   ]
  },
  {
   "cell_type": "code",
   "execution_count": null,
   "metadata": {
    "scrolled": true
   },
   "outputs": [],
   "source": [
    "# Work with expression\n",
    "df.select(pl.col('impressions').cast(pl.Int32))"
   ]
  },
  {
   "cell_type": "code",
   "execution_count": null,
   "metadata": {
    "scrolled": true
   },
   "outputs": [],
   "source": [
    "# Stick it back in dataframe\n",
    "(df\n",
    " .with_columns(pl.col('impressions').cast(pl.Int32))\n",
    ")"
   ]
  },
  {
   "cell_type": "code",
   "execution_count": null,
   "metadata": {
    "scrolled": true
   },
   "outputs": [],
   "source": [
    "# Try it w/ Int8\n",
    "(df\n",
    " .with_columns(pl.col('impressions').cast(pl.Int8))\n",
    ")"
   ]
  },
  {
   "cell_type": "code",
   "execution_count": null,
   "metadata": {
    "scrolled": true
   },
   "outputs": [],
   "source": [
    "# check range of type conversion\n",
    "df['impressions'].max()"
   ]
  },
  {
   "cell_type": "code",
   "execution_count": null,
   "metadata": {
    "scrolled": true
   },
   "outputs": [],
   "source": [
    "(df\n",
    " .with_columns(pl.col('impressions').cast(pl.Int32))\n",
    " ['impressions']\n",
    " .max()\n",
    ")"
   ]
  },
  {
   "cell_type": "code",
   "execution_count": null,
   "metadata": {},
   "outputs": [],
   "source": [
    "# look at smaller values\n",
    "np.iinfo(np.uint8)"
   ]
  },
  {
   "cell_type": "code",
   "execution_count": null,
   "metadata": {
    "scrolled": true
   },
   "outputs": [],
   "source": [
    "# try to get columns where row/max value <= 255\n",
    "(df\n",
    " .select(pl.col([pl.Float64, pl.Int64]))\n",
    " .pipe(pd_describe)\n",
    " .select([pl.col(col) \n",
    "         for col in df.columns\n",
    "         if df[col].max() <= 255\n",
    "         ])\n",
    ")"
   ]
  },
  {
   "cell_type": "code",
   "execution_count": null,
   "metadata": {},
   "outputs": [],
   "source": [
    "# notice that engagement_rate isn't an integer\n",
    "def filter_cols(a_df):\n",
    "    cols = [pl.col(col) \n",
    "             for col in a_df.columns\n",
    "             if col != 'describe' and a_df[col][-2] <= 255\n",
    "             ]\n",
    "    \n",
    "    return (a_df\n",
    "            .select([pl.col('describe'), *cols])\n",
    "           )\n",
    "\n",
    "print(df\n",
    " .select(pl.col([pl.Float64, pl.Int64]))\n",
    " .pipe(pd_describe)\n",
    " .pipe(filter_cols) \n",
    " .columns\n",
    ")"
   ]
  },
  {
   "cell_type": "code",
   "execution_count": null,
   "metadata": {},
   "outputs": [],
   "source": [
    "np.iinfo(np.uint16)"
   ]
  },
  {
   "cell_type": "code",
   "execution_count": null,
   "metadata": {},
   "outputs": [],
   "source": [
    "def filter_cols(a_df, max_val):\n",
    "    cols = [pl.col(col) \n",
    "             for col in a_df.columns\n",
    "             if col != 'describe' and a_df[col][-2] <= max_val #65_535\n",
    "             ]\n",
    "    return (a_df\n",
    "            .select(['describe', *cols])\n",
    "           )\n",
    "\n",
    "print(df\n",
    " .select(pl.col([pl.Float64, pl.Int64]))\n",
    " .pipe(pd_describe)\n",
    " .pipe(filter_cols, max_val=65_535) \n",
    " .columns\n",
    ")"
   ]
  },
  {
   "cell_type": "code",
   "execution_count": null,
   "metadata": {
    "scrolled": true
   },
   "outputs": [],
   "source": [
    "# removed eng_rate (not an integer)\n",
    "(df\n",
    " .with_columns([pl.col(col).cast(pl.UInt16)\n",
    "                for col in \n",
    "              ['engagements', 'retweets', 'replies', 'likes', 'user profile clicks', 'url clicks', \n",
    "               'hashtag clicks', 'detail expands', 'permalink clicks', 'app opens', 'app installs', \n",
    "               'follows', 'email tweet', 'dial phone', 'media views', 'media engagements']])\n",
    ")"
   ]
  },
  {
   "cell_type": "code",
   "execution_count": null,
   "metadata": {
    "scrolled": true
   },
   "outputs": [],
   "source": [
    "# remove list comprehension\n",
    "# work with expressions!\n",
    "(df\n",
    " .with_columns(pl\n",
    "               .col(['engagements', 'retweets', 'replies', 'likes', 'user profile clicks', \n",
    "                     'url clicks', 'hashtag clicks', 'detail expands', 'permalink clicks', \n",
    "                     'app opens', 'app installs', 'follows', 'email tweet', 'dial phone', \n",
    "                     'media views', 'media engagements'])\n",
    "               .cast(pl.UInt16))\n",
    ")"
   ]
  },
  {
   "cell_type": "code",
   "execution_count": null,
   "metadata": {
    "scrolled": true
   },
   "outputs": [],
   "source": [
    "%%timeit\n",
    "# removed eng_rate (not an integer)\n",
    "(df\n",
    " .with_columns([pl.col(col).cast(pl.UInt16)\n",
    "                for col in \n",
    "              ['engagements', 'retweets', 'replies', 'likes', 'user profile clicks', 'url clicks', \n",
    "               'hashtag clicks', 'detail expands', 'permalink clicks', 'app opens', 'app installs', \n",
    "               'follows', 'email tweet', 'dial phone', 'media views', 'media engagements']])\n",
    ")"
   ]
  },
  {
   "cell_type": "code",
   "execution_count": null,
   "metadata": {
    "scrolled": true
   },
   "outputs": [],
   "source": [
    "%%timeit\n",
    "# remove list comprehension\n",
    "# work with expressions!\n",
    "(df\n",
    " .with_columns(pl\n",
    "               .col(['engagements', 'retweets', 'replies', 'likes', 'user profile clicks',\n",
    "                     'url clicks', 'hashtag clicks', 'detail expands', 'permalink clicks', \n",
    "                     'app opens', 'app installs', 'follows', 'email tweet', 'dial phone', \n",
    "                     'media views', 'media engagements'])\n",
    "               .cast(pl.UInt16))\n",
    ")"
   ]
  },
  {
   "cell_type": "code",
   "execution_count": null,
   "metadata": {
    "scrolled": true
   },
   "outputs": [],
   "source": [
    "%%timeit\n",
    "# try being lazy\n",
    "(df\n",
    " .lazy()\n",
    " .with_columns(pl\n",
    "               .col(['engagements', 'retweets', 'replies', 'likes', 'user profile clicks',\n",
    "                     'url clicks', 'hashtag clicks', 'detail expands', 'permalink clicks', \n",
    "                     'app opens', 'app installs', 'follows', 'email tweet', 'dial phone', \n",
    "                     'media views', 'media engagements'])\n",
    "               .cast(pl.UInt16))\n",
    " .collect()\n",
    ")"
   ]
  },
  {
   "cell_type": "code",
   "execution_count": null,
   "metadata": {},
   "outputs": [],
   "source": [
    "np.iinfo(np.uint32)"
   ]
  },
  {
   "cell_type": "code",
   "execution_count": null,
   "metadata": {},
   "outputs": [],
   "source": [
    "# find large uint32\n",
    "def filter_cols(a_df):\n",
    "    cols = [pl.col(col) \n",
    "             for col in a_df.columns\n",
    "             if col != 'describe' and a_df[col][-2] > 65_535 and a_df[col][-2] <= 4_294_967_295 \n",
    "             ]\n",
    "    return (a_df\n",
    "            .select(['describe', *cols])\n",
    "           )\n",
    "\n",
    "print(df\n",
    " .select(pl.col([pl.Float64, pl.Int64]))\n",
    " .pipe(pd_describe)\n",
    " .pipe(filter_cols) \n",
    " .columns\n",
    ")"
   ]
  },
  {
   "cell_type": "code",
   "execution_count": null,
   "metadata": {
    "scrolled": true
   },
   "outputs": [],
   "source": [
    "(df\n",
    " .with_columns([\n",
    "    pl.col(['replies', 'hashtag clicks', 'permalink clicks', 'app opens', 'app installs', 'follows', 'email tweet', 'dial phone'])\n",
    "      .cast(pl.UInt8),\n",
    "    pl.col(['engagements', 'retweets', 'likes', 'user profile clicks', 'url clicks',  'detail expands', 'media views', 'media engagements'])\n",
    "      .cast(pl.UInt16),\n",
    "    pl.col('impressions').cast(pl.UInt32)\n",
    "   ])\n",
    ")"
   ]
  },
  {
   "cell_type": "code",
   "execution_count": null,
   "metadata": {},
   "outputs": [],
   "source": [
    "# filter promoted columns"
   ]
  },
  {
   "cell_type": "code",
   "execution_count": null,
   "metadata": {
    "scrolled": true
   },
   "outputs": [],
   "source": [
    "df.select?"
   ]
  },
  {
   "cell_type": "code",
   "execution_count": null,
   "metadata": {
    "scrolled": true
   },
   "outputs": [],
   "source": [
    "df.select(pl.col(r'^promoted.*$'))"
   ]
  },
  {
   "cell_type": "code",
   "execution_count": null,
   "metadata": {
    "scrolled": true
   },
   "outputs": [],
   "source": [
    "df.select(pl.all().exclude(r'^promoted.*$'))"
   ]
  },
  {
   "cell_type": "code",
   "execution_count": null,
   "metadata": {},
   "outputs": [],
   "source": [
    "df.drop?"
   ]
  },
  {
   "cell_type": "code",
   "execution_count": null,
   "metadata": {
    "scrolled": true
   },
   "outputs": [],
   "source": [
    "(df\n",
    " .with_columns([\n",
    "    pl.col(['replies', 'hashtag clicks', 'permalink clicks', 'app opens', 'app installs', 'follows', 'email tweet', 'dial phone'])\n",
    "      .cast(pl.UInt8),\n",
    "    pl.col(['engagements', 'retweets', 'likes', 'user profile clicks', 'url clicks',  'detail expands', 'media views', 'media engagements'])\n",
    "      .cast(pl.UInt16),\n",
    "    pl.col('impressions').cast(pl.UInt32)\n",
    "   ])\n",
    " .drop(['promoted impressions', 'promoted engagements', 'promoted engagement rate', 'promoted retweets', 'promoted replies', 'promoted likes', 'promoted user profile clicks', 'promoted url clicks', 'promoted hashtag clicks', 'promoted detail expands', 'promoted permalink clicks', 'promoted app opens', 'promoted app installs', 'promoted follows', 'promoted email tweet', 'promoted dial phone', 'promoted media views', 'promoted media engagements'])\n",
    ")"
   ]
  },
  {
   "cell_type": "code",
   "execution_count": null,
   "metadata": {
    "scrolled": true
   },
   "outputs": [],
   "source": [
    "# rather than drop, we should be explicit about the columns we want\n",
    "# (also allows .lazy mode to make optimizations)\n",
    "print(df\n",
    " .with_columns([\n",
    "    pl.col(['replies', 'hashtag clicks', 'permalink clicks', 'app opens', 'app installs', \n",
    "            'follows', 'email tweet', 'dial phone'])\n",
    "      .cast(pl.UInt8),\n",
    "    pl.col(['engagements', 'retweets', 'likes', 'user profile clicks', 'url clicks',  \n",
    "            'detail expands', 'media views', 'media engagements'])\n",
    "      .cast(pl.UInt16),\n",
    "    pl.col('impressions').cast(pl.UInt32)\n",
    "   ])\n",
    " .drop(['promoted impressions', 'promoted engagements', 'promoted engagement rate', \n",
    "        'promoted retweets', 'promoted replies', 'promoted likes', 'promoted user profile clicks', \n",
    "        'promoted url clicks', 'promoted hashtag clicks', 'promoted detail expands', \n",
    "        'promoted permalink clicks', 'promoted app opens', 'promoted app installs', \n",
    "        'promoted follows', 'promoted email tweet', 'promoted dial phone', 'promoted media views', \n",
    "        'promoted media engagements'])\n",
    " .columns\n",
    ")"
   ]
  },
  {
   "cell_type": "code",
   "execution_count": null,
   "metadata": {
    "scrolled": true
   },
   "outputs": [],
   "source": [
    "# rather than drop, we should be explicit about the columns we want\n",
    "# (also allows .lazy mode to make optimizations)\n",
    "(df\n",
    " .with_columns([\n",
    "    pl.col(['replies', 'hashtag clicks', 'permalink clicks', 'app opens', 'app installs', \n",
    "            'follows', 'email tweet', 'dial phone'])\n",
    "      .cast(pl.UInt8),\n",
    "    pl.col(['engagements', 'retweets', 'likes', 'user profile clicks', 'url clicks',  \n",
    "            'detail expands', 'media views', 'media engagements'])\n",
    "      .cast(pl.UInt16),\n",
    "    pl.col('impressions').cast(pl.UInt32)\n",
    "   ])\n",
    " .select(pl.col(['Tweet id', 'Tweet permalink', 'Tweet text', 'time', 'impressions', \n",
    "                 'engagements', 'engagement rate', 'retweets', 'replies', 'likes', \n",
    "                 'user profile clicks', 'url clicks', 'hashtag clicks', 'detail expands',\n",
    "                 'permalink clicks', 'app opens', 'app installs', 'follows', 'email tweet', \n",
    "                 'dial phone', 'media views', 'media engagements']))\n",
    ")"
   ]
  },
  {
   "cell_type": "code",
   "execution_count": null,
   "metadata": {},
   "outputs": [],
   "source": [
    "print(df.rename.__doc__)"
   ]
  },
  {
   "cell_type": "code",
   "execution_count": null,
   "metadata": {
    "scrolled": true
   },
   "outputs": [],
   "source": [
    "# rename columns (pandas style)\n",
    "(df\n",
    " .with_columns([\n",
    "    pl.col(['replies', 'hashtag clicks', 'permalink clicks', 'app opens', 'app installs', \n",
    "            'follows', 'email tweet', 'dial phone'])\n",
    "      .cast(pl.UInt8),\n",
    "    pl.col(['engagements', 'retweets', 'likes', 'user profile clicks', 'url clicks',  \n",
    "            'detail expands', 'media views', 'media engagements'])\n",
    "      .cast(pl.UInt16),\n",
    "    pl.col('impressions').cast(pl.UInt32)\n",
    "   ])\n",
    " .select(pl.col(['Tweet id', 'Tweet permalink', 'Tweet text', 'time', 'impressions', \n",
    "                 'engagements', 'engagement rate', 'retweets', 'replies', 'likes', \n",
    "                 'user profile clicks', 'url clicks', 'hashtag clicks', 'detail expands', \n",
    "                 'permalink clicks', 'app opens', 'app installs', 'follows', 'email tweet', \n",
    "                 'dial phone', 'media views', 'media engagements']))\n",
    " .pipe(lambda a_df: a_df.rename({col:col.replace(' ','_').lower() for col in a_df.columns}))\n",
    ")"
   ]
  },
  {
   "cell_type": "code",
   "execution_count": null,
   "metadata": {
    "scrolled": false
   },
   "outputs": [],
   "source": [
    "# rename columns (polars style)\n",
    "(df\n",
    " .lazy()\n",
    " .with_columns([\n",
    "    pl.col(['replies', 'hashtag clicks', 'permalink clicks', 'app opens', \n",
    "            'app installs', 'follows', 'email tweet', 'dial phone'])\n",
    "      .cast(pl.UInt8),\n",
    "    pl.col(['engagements', 'retweets', 'likes', 'user profile clicks', 'url clicks',  \n",
    "            'detail expands', 'media views', 'media engagements'])\n",
    "      .cast(pl.UInt16),\n",
    "    pl.col('impressions').cast(pl.UInt32)\n",
    "   ])\n",
    " .select(pl.col(['Tweet id', 'Tweet permalink', 'Tweet text', 'time', 'impressions', \n",
    "                 'engagements', 'engagement rate', 'retweets', 'replies', 'likes', \n",
    "                 'user profile clicks', 'url clicks', 'hashtag clicks', \n",
    "                 'detail expands', 'permalink clicks', 'app opens', 'app installs', \n",
    "                 'follows', 'email tweet', 'dial phone', 'media views', 'media engagements']))\n",
    " .select(pl.all().map_alias(lambda name: name.lower().replace(' ', '_')))\n",
    ")"
   ]
  },
  {
   "cell_type": "markdown",
   "metadata": {},
   "source": [
    "## Column Cleanup Exercise\n",
    "(Please don't mutate here!)\n",
    "\n",
    "* Select just the *impressions* and *engagement* columns\n",
    "* Select all the columns except *impressions* and *engagement* columns (without using `.drop`)\n",
    "* Use `.rename` to rename *impressions* to *imp* and *engagement* to *eng*"
   ]
  },
  {
   "cell_type": "code",
   "execution_count": null,
   "metadata": {},
   "outputs": [],
   "source": []
  },
  {
   "cell_type": "code",
   "execution_count": null,
   "metadata": {},
   "outputs": [],
   "source": []
  },
  {
   "cell_type": "code",
   "execution_count": null,
   "metadata": {},
   "outputs": [],
   "source": []
  },
  {
   "cell_type": "markdown",
   "metadata": {},
   "source": [
    "## Dates"
   ]
  },
  {
   "cell_type": "code",
   "execution_count": null,
   "metadata": {
    "scrolled": true
   },
   "outputs": [],
   "source": [
    "# rename columns\n",
    "(df\n",
    " .with_columns([\n",
    "     pl.col(['replies', 'hashtag clicks', 'permalink clicks', 'app opens', \n",
    "             'app installs', 'follows', 'email tweet', 'dial phone'])\n",
    "       .cast(pl.UInt8),\n",
    "     pl.col(['engagements', 'retweets', 'likes', 'user profile clicks', 'url clicks',  \n",
    "             'detail expands', 'media views', 'media engagements'])\n",
    "       .cast(pl.UInt16),\n",
    "     pl.col('impressions').cast(pl.UInt32),\n",
    "     pl.col('time').cast(pl.Datetime) ### New line\n",
    "   ])\n",
    " .select(pl.col(['Tweet id', 'Tweet permalink', 'Tweet text', 'time', 'impressions', \n",
    "                 'engagements', 'engagement rate', 'retweets', 'replies', 'likes', \n",
    "                 'user profile clicks', 'url clicks', 'hashtag clicks', \n",
    "                 'detail expands', 'permalink clicks', 'app opens', 'app installs', \n",
    "                 'follows', 'email tweet', 'dial phone', 'media views', 'media engagements']))\n",
    " .select(pl.all().map_alias(lambda name: name.lower().replace(' ', '_')))\n",
    ")"
   ]
  },
  {
   "cell_type": "code",
   "execution_count": null,
   "metadata": {},
   "outputs": [],
   "source": [
    "print(dir(df['time'].str))"
   ]
  },
  {
   "cell_type": "code",
   "execution_count": null,
   "metadata": {
    "scrolled": true
   },
   "outputs": [],
   "source": [
    "df['time'].str.split('+').apply(lambda vals: vals[0])"
   ]
  },
  {
   "cell_type": "code",
   "execution_count": null,
   "metadata": {
    "scrolled": true
   },
   "outputs": [],
   "source": [
    "split = df['time'].str.split('+')\n",
    "split"
   ]
  },
  {
   "cell_type": "code",
   "execution_count": null,
   "metadata": {
    "scrolled": true
   },
   "outputs": [],
   "source": [
    "print(dir(split))"
   ]
  },
  {
   "cell_type": "code",
   "execution_count": null,
   "metadata": {
    "scrolled": true
   },
   "outputs": [],
   "source": [
    "df['time'].str.split('+').arr.get(0) "
   ]
  },
  {
   "cell_type": "code",
   "execution_count": null,
   "metadata": {},
   "outputs": [],
   "source": [
    "df['time'].str.split('+').arr.get(0).cast(pl.Datetime)"
   ]
  },
  {
   "cell_type": "code",
   "execution_count": null,
   "metadata": {
    "scrolled": true
   },
   "outputs": [],
   "source": [
    "# Explicit is good!\n",
    "df['time'].str.split('+').arr.get(0).str.strptime(pl.Datetime, '%Y-%m-%d %H:%M:%S')"
   ]
  },
  {
   "cell_type": "code",
   "execution_count": null,
   "metadata": {
    "scrolled": true
   },
   "outputs": [],
   "source": [
    "df2 = (df\n",
    " .with_columns([\n",
    "     pl.col(['replies', 'hashtag clicks', 'permalink clicks', 'app opens', \n",
    "             'app installs', 'follows', 'email tweet', 'dial phone'])\n",
    "       .cast(pl.UInt8),\n",
    "     pl.col(['engagements', 'retweets', 'likes', 'user profile clicks', \n",
    "             'url clicks',  'detail expands', 'media views', 'media engagements'])\n",
    "       .cast(pl.UInt16),\n",
    "     pl.col('impressions').cast(pl.UInt32),\n",
    "     pl.col('time').str.split('+').arr.get(0).str.strptime(pl.Datetime, '%Y-%m-%d %H:%M:%S')\n",
    "   ])\n",
    " .select(pl.col(['Tweet id', 'Tweet permalink', 'Tweet text', 'time', \n",
    "                 'impressions', 'engagements', 'engagement rate', 'retweets', \n",
    "                 'replies', 'likes', 'user profile clicks', 'url clicks', \n",
    "                 'hashtag clicks', 'detail expands', 'permalink clicks', \n",
    "                 'app opens', 'app installs', 'follows', 'email tweet', \n",
    "                 'dial phone', 'media views', 'media engagements']))       \n",
    " .select(pl.all().map_alias(lambda name: name.lower().replace(' ', '_')))\n",
    ")\n",
    "df2"
   ]
  },
  {
   "cell_type": "code",
   "execution_count": null,
   "metadata": {
    "scrolled": true
   },
   "outputs": [],
   "source": [
    "print(dir(df2['time'].dt))"
   ]
  },
  {
   "cell_type": "code",
   "execution_count": null,
   "metadata": {
    "scrolled": true
   },
   "outputs": [],
   "source": [
    "df2['time'].dt.month()"
   ]
  },
  {
   "cell_type": "code",
   "execution_count": null,
   "metadata": {
    "scrolled": true
   },
   "outputs": [],
   "source": [
    "# let's change timezone\n",
    "print(df2['time'].dt.convert_time_zone.__doc__)"
   ]
  },
  {
   "cell_type": "code",
   "execution_count": null,
   "metadata": {
    "scrolled": true
   },
   "outputs": [],
   "source": [
    "# let's change timezone\n",
    "df2['time'].dt.replace_time_zone('UTC')"
   ]
  },
  {
   "cell_type": "code",
   "execution_count": null,
   "metadata": {
    "scrolled": true
   },
   "outputs": [],
   "source": [
    "# let's change timezone\n",
    "df2['time'].dt.replace_time_zone('UTC').dt.convert_time_zone('America/Denver')"
   ]
  },
  {
   "cell_type": "markdown",
   "metadata": {},
   "source": [
    "## Dates Exercise\n",
    "* Create a series with the months of the *time* column\n",
    "* Convert the *time* column to UTC\n",
    "* Convert the *time* column to `America/New_York`"
   ]
  },
  {
   "cell_type": "code",
   "execution_count": null,
   "metadata": {},
   "outputs": [],
   "source": []
  },
  {
   "cell_type": "code",
   "execution_count": null,
   "metadata": {},
   "outputs": [],
   "source": []
  },
  {
   "cell_type": "code",
   "execution_count": null,
   "metadata": {},
   "outputs": [],
   "source": []
  },
  {
   "cell_type": "markdown",
   "metadata": {},
   "source": [
    "## Function"
   ]
  },
  {
   "cell_type": "code",
   "execution_count": null,
   "metadata": {
    "lines_to_next_cell": 0,
    "scrolled": true
   },
   "outputs": [],
   "source": [
    "# if lazy do a .select instead of .drop (then CSV reading only looks at selected columns!)\n",
    "# same happens with row filter\n",
    "def tweak_twitter(df):\n",
    "    return (df\n",
    "     .with_columns([\n",
    "         pl.col(['replies', 'hashtag clicks', 'permalink clicks', 'app opens', \n",
    "                 'app installs', 'follows', 'email tweet', 'dial phone'])\n",
    "           .cast(pl.UInt8),\n",
    "         pl.col(['engagements', 'retweets', 'likes', 'user profile clicks', \n",
    "                 'url clicks',  'detail expands', 'media views', 'media engagements'])\n",
    "           .cast(pl.UInt16),\n",
    "         pl.col('impressions').cast(pl.UInt32),\n",
    "         pl.col('time').str.split('+').arr.get(0)\n",
    "            .str.strptime(pl.Datetime, '%Y-%m-%d %H:%M:%S')\n",
    "            .dt.replace_time_zone('UTC').dt.convert_time_zone('America/Denver'),\n",
    "     ])\n",
    "     .select(pl.col(['Tweet id', 'Tweet permalink', 'Tweet text', 'time', \n",
    "                     'impressions', 'engagements', 'engagement rate', 'retweets', \n",
    "                     'replies', 'likes', 'user profile clicks', 'url clicks', \n",
    "                     'hashtag clicks', 'detail expands', 'permalink clicks', \n",
    "                     'app opens', 'app installs', 'follows', 'email tweet', \n",
    "                     'dial phone', 'media views', 'media engagements']))                    \n",
    "     .select(pl.all().map_alias(lambda name: name.lower().replace(' ', '_')))\n",
    "    )\n",
    "\n",
    "tweak_twitter(df)"
   ]
  },
  {
   "cell_type": "code",
   "execution_count": null,
   "metadata": {},
   "outputs": [],
   "source": []
  },
  {
   "cell_type": "code",
   "execution_count": null,
   "metadata": {
    "lines_to_next_cell": 2
   },
   "outputs": [],
   "source": []
  },
  {
   "cell_type": "markdown",
   "metadata": {},
   "source": [
    "## Chaining"
   ]
  },
  {
   "cell_type": "code",
   "execution_count": null,
   "metadata": {
    "lines_to_next_cell": 0,
    "scrolled": true
   },
   "outputs": [],
   "source": [
    "def tweak_twitter_lazy(df):\n",
    "    return (df\n",
    "     .lazy()\n",
    "     .with_columns([\n",
    "         pl.col(['replies', 'hashtag clicks', 'permalink clicks', 'app opens', \n",
    "                 'app installs', 'follows', 'email tweet', 'dial phone'])\n",
    "           .cast(pl.UInt8),\n",
    "         pl.col(['engagements', 'retweets', 'likes', 'user profile clicks', \n",
    "                 'url clicks',  'detail expands', 'media views', 'media engagements'])\n",
    "           .cast(pl.UInt16),\n",
    "         pl.col('impressions').cast(pl.UInt32),\n",
    "         pl.col('time').str.split('+').arr.get(0)\n",
    "            .str.strptime(pl.Datetime, '%Y-%m-%d %H:%M:%S')\n",
    "            .dt.replace_time_zone('UTC').dt.convert_time_zone('America/Denver'),\n",
    "     ])\n",
    "     .select(pl.col(['Tweet id', 'Tweet permalink', 'Tweet text', 'time', \n",
    "                     'impressions', 'engagements', 'engagement rate', 'retweets', \n",
    "                     'replies', 'likes', 'user profile clicks', 'url clicks', \n",
    "                     'hashtag clicks', 'detail expands', 'permalink clicks', \n",
    "                     'app opens', 'app installs', 'follows', 'email tweet', \n",
    "                     'dial phone', 'media views', 'media engagements']))                    \n",
    "     .select(pl.all().map_alias(lambda name: name.lower().replace(' ', '_')))\n",
    "     .collect()\n",
    "    )\n",
    "\n",
    "tweak_twitter_lazy(df)"
   ]
  },
  {
   "cell_type": "code",
   "execution_count": null,
   "metadata": {},
   "outputs": [],
   "source": [
    "%%timeit\n",
    "# data is already in memory\n",
    "# try with scan_csv (the lazy version)\n",
    "tweak_twitter_lazy(df)"
   ]
  },
  {
   "cell_type": "code",
   "execution_count": null,
   "metadata": {
    "scrolled": false
   },
   "outputs": [],
   "source": [
    "%%timeit\n",
    "tweak_twitter(df)"
   ]
  },
  {
   "cell_type": "code",
   "execution_count": null,
   "metadata": {
    "lines_to_next_cell": 0,
    "scrolled": true
   },
   "outputs": [],
   "source": [
    "# add file reading\n",
    "def tweak_twitter_lazy(file):\n",
    "    return (pl.scan_csv(file)\n",
    "     .lazy()\n",
    "     .with_columns([\n",
    "         pl.col(['replies', 'hashtag clicks', 'permalink clicks', 'app opens', \n",
    "                 'app installs', 'follows', 'email tweet', 'dial phone'])\n",
    "           .cast(pl.UInt8),\n",
    "         pl.col(['engagements', 'retweets', 'likes', 'user profile clicks', \n",
    "                 'url clicks',  'detail expands', 'media views', 'media engagements'])\n",
    "           .cast(pl.UInt16),\n",
    "         pl.col('impressions').cast(pl.UInt32),\n",
    "         pl.col('time').str.split('+').arr.get(0)\n",
    "            .str.strptime(pl.Datetime, '%Y-%m-%d %H:%M:%S')\n",
    "            .dt.replace_time_zone('UTC').dt.convert_time_zone('America/Denver'),\n",
    "     ])\n",
    "     .select(pl.col(['Tweet id', 'Tweet permalink', 'Tweet text', 'time', \n",
    "                     'impressions', 'engagements', 'engagement rate', 'retweets', \n",
    "                     'replies', 'likes', 'user profile clicks', 'url clicks', \n",
    "                     'hashtag clicks', 'detail expands', 'permalink clicks', \n",
    "                     'app opens', 'app installs', 'follows', 'email tweet', \n",
    "                     'dial phone', 'media views', 'media engagements']))                    \n",
    "     .select(pl.all().map_alias(lambda name: name.lower().replace(' ', '_')))\n",
    "     .collect()\n",
    "    )\n",
    "\n",
    "# doesn't work with URL\n",
    "tweak_twitter_lazy(file)"
   ]
  },
  {
   "cell_type": "code",
   "execution_count": null,
   "metadata": {
    "scrolled": true
   },
   "outputs": [],
   "source": [
    "%%timeit\n",
    "tweak_twitter_lazy(file)"
   ]
  },
  {
   "cell_type": "code",
   "execution_count": null,
   "metadata": {},
   "outputs": [],
   "source": []
  },
  {
   "cell_type": "code",
   "execution_count": null,
   "metadata": {
    "lines_to_next_cell": 0,
    "scrolled": true
   },
   "outputs": [],
   "source": [
    "# add file reading\n",
    "def tweak_twitter_lazy_plan(file):\n",
    "    return (pl.scan_csv(file)\n",
    "     .lazy()\n",
    "     .with_columns([\n",
    "         pl.col(['replies', 'hashtag clicks', 'permalink clicks', 'app opens', \n",
    "                 'app installs', 'follows', 'email tweet', 'dial phone'])\n",
    "           .cast(pl.UInt8),\n",
    "         pl.col(['engagements', 'retweets', 'likes', 'user profile clicks', \n",
    "                 'url clicks',  'detail expands', 'media views', 'media engagements'])\n",
    "           .cast(pl.UInt16),\n",
    "         pl.col('impressions').cast(pl.UInt32),\n",
    "         pl.col('time').str.split('+').arr.get(0)\n",
    "            .str.strptime(pl.Datetime, '%Y-%m-%d %H:%M:%S')\n",
    "            .dt.replace_time_zone('UTC').dt.convert_time_zone('America/Denver'),\n",
    "     ])\n",
    "     .select(pl.col(['Tweet id', 'Tweet permalink', 'Tweet text', 'time', \n",
    "                     'impressions', 'engagements', 'engagement rate', 'retweets', \n",
    "                     'replies', 'likes', 'user profile clicks', 'url clicks', \n",
    "                     'hashtag clicks', 'detail expands', 'permalink clicks', \n",
    "                     'app opens', 'app installs', 'follows', 'email tweet', \n",
    "                     'dial phone', 'media views', 'media engagements']))                    \n",
    "     .select(pl.all().map_alias(lambda name: name.lower().replace(' ', '_')))\n",
    "#     .collect()\n",
    "    )\n",
    "\n",
    "# doesn't work with URL\n",
    "tweak_twitter_lazy_plan(file)"
   ]
  },
  {
   "cell_type": "markdown",
   "metadata": {},
   "source": [
    "## Chain Exercise\n",
    "* Use `.pipe` to print the shape of the dataframe after every step in the chain of the `tweak_twitter` function"
   ]
  },
  {
   "cell_type": "code",
   "execution_count": null,
   "metadata": {},
   "outputs": [],
   "source": []
  },
  {
   "cell_type": "code",
   "execution_count": null,
   "metadata": {},
   "outputs": [],
   "source": []
  },
  {
   "cell_type": "markdown",
   "metadata": {},
   "source": [
    "## Pandas Comparison"
   ]
  },
  {
   "cell_type": "code",
   "execution_count": null,
   "metadata": {},
   "outputs": [],
   "source": [
    "import pandas as pd\n",
    "def tweak_twitter_pd(df):\n",
    "    return (df\n",
    "     .rename(columns=lambda col_name: col_name.replace(' ', '_'))\n",
    "     .pipe(lambda df_: df_.drop(columns=[c for c in df_.columns if 'promoted' in c]))\n",
    "     .drop(columns=['permalink_clicks', 'app_opens', 'app_installs', 'email_tweet', 'dial_phone'])\n",
    "     .assign(impressions=df.impressions.astype('uint32'),\n",
    "             engagements=df.engagements.astype('uint16'),\n",
    "             **{c:lambda df_, c=c:df_[c].astype('uint8') for c in ['replies', 'hashtag_clicks', 'follows']},  # less than 255\n",
    "             **{c:lambda df_, c=c:df_[c].astype('uint16') for c in ['retweets', 'likes', 'user_profile_clicks', 'url_clicks', \n",
    "                                              'detail_expands', 'media_views', 'media_engagements']},  # less than 65,535\n",
    "             Tweet_permalink=lambda df_: pd.Series('https://twitter.com/__mharrison__/status/', dtype='category', \n",
    "                                                   index=df_.index),\n",
    "             time=lambda df_: df_.time.dt.tz_convert('America/Denver')\n",
    "            )\n",
    "    )\n",
    "\n",
    "url = 'https://github.com/mattharrison/datasets/raw/master/data/__mharrison__2020-2021.csv'\n",
    "df_pd = pd.read_csv(url, parse_dates=['time'])\n",
    "twit_df_pd = tweak_twitter_pd(df_pd)"
   ]
  },
  {
   "cell_type": "code",
   "execution_count": null,
   "metadata": {},
   "outputs": [],
   "source": [
    "%%timeit\n",
    "tweak_twitter_pd(df_pd)"
   ]
  },
  {
   "cell_type": "code",
   "execution_count": null,
   "metadata": {},
   "outputs": [],
   "source": [
    "%%timeit\n",
    "df_pd = pd.read_csv(file, parse_dates=['time'])\n",
    "twit_df_pd = tweak_twitter_pd(df_pd)"
   ]
  },
  {
   "cell_type": "code",
   "execution_count": null,
   "metadata": {},
   "outputs": [],
   "source": []
  },
  {
   "cell_type": "code",
   "execution_count": null,
   "metadata": {},
   "outputs": [],
   "source": []
  },
  {
   "cell_type": "markdown",
   "metadata": {},
   "source": [
    "## Apply"
   ]
  },
  {
   "cell_type": "code",
   "execution_count": null,
   "metadata": {},
   "outputs": [],
   "source": [
    "twit_df = tweak_twitter(df)"
   ]
  },
  {
   "cell_type": "code",
   "execution_count": null,
   "metadata": {
    "scrolled": true
   },
   "outputs": [],
   "source": [
    "def pct(row):\n",
    "    return row * 100 #1/0\n",
    "\n",
    "(twit_df\n",
    " .with_columns(pl.col('engagement_rate').apply(pct).alias('engagement_percent'))\n",
    ")"
   ]
  },
  {
   "cell_type": "code",
   "execution_count": null,
   "metadata": {
    "scrolled": true
   },
   "outputs": [],
   "source": [
    "%%timeit\n",
    "(twit_df\n",
    " .with_columns(pl.col('engagement_rate').apply(pct).alias('engagement_percent'))\n",
    ")"
   ]
  },
  {
   "cell_type": "code",
   "execution_count": null,
   "metadata": {
    "scrolled": true
   },
   "outputs": [],
   "source": [
    "%%timeit\n",
    "(twit_df\n",
    " .with_columns((pl.col('engagement_rate') * 100).alias('engagement_percent'))\n",
    ")"
   ]
  },
  {
   "cell_type": "code",
   "execution_count": null,
   "metadata": {
    "scrolled": true
   },
   "outputs": [],
   "source": [
    "%%timeit\n",
    "# apply is element-wise\n",
    "(twit_df\n",
    " .with_columns(pl.col('engagement_rate').apply(np.sin).alias('engagement_percent'))\n",
    ")"
   ]
  },
  {
   "cell_type": "code",
   "execution_count": null,
   "metadata": {
    "scrolled": true
   },
   "outputs": [],
   "source": [
    "%%timeit\n",
    "# map does column-wise\n",
    "(twit_df\n",
    " .with_columns(pl.col('engagement_rate').map(np.sin).alias('engagement_percent'))\n",
    ")"
   ]
  },
  {
   "cell_type": "code",
   "execution_count": null,
   "metadata": {
    "scrolled": true
   },
   "outputs": [],
   "source": [
    "%%timeit\n",
    "# unlike Pandas, polars has an expression for sin\n",
    "(twit_df\n",
    " .with_columns(pl.col('engagement_rate').sin().alias('engagement_percent'))\n",
    ")"
   ]
  },
  {
   "cell_type": "code",
   "execution_count": null,
   "metadata": {},
   "outputs": [],
   "source": [
    "import math"
   ]
  },
  {
   "cell_type": "code",
   "execution_count": null,
   "metadata": {
    "scrolled": true
   },
   "outputs": [],
   "source": [
    "%%timeit\n",
    "(twit_df\n",
    " .with_columns(pl.col('engagement_rate').apply(math.sin).alias('engagement_percent'))\n",
    ")"
   ]
  },
  {
   "cell_type": "code",
   "execution_count": null,
   "metadata": {
    "scrolled": true
   },
   "outputs": [],
   "source": [
    "#string ops\n",
    "(twit_df\n",
    " .with_columns(pl.col('tweet_text').str.startswith('@'))\n",
    ")"
   ]
  },
  {
   "cell_type": "code",
   "execution_count": null,
   "metadata": {},
   "outputs": [],
   "source": [
    "'matt'.startswith('m')"
   ]
  },
  {
   "cell_type": "code",
   "execution_count": null,
   "metadata": {
    "scrolled": true
   },
   "outputs": [],
   "source": [
    "print(dir(pl.col('*').str))"
   ]
  },
  {
   "cell_type": "code",
   "execution_count": null,
   "metadata": {
    "scrolled": true
   },
   "outputs": [],
   "source": [
    "%%timeit\n",
    "#string ops\n",
    "\n",
    "(twit_df\n",
    " .with_columns(pl.col('tweet_text').str.starts_with('@').alias('is_reply'))\n",
    ")"
   ]
  },
  {
   "cell_type": "code",
   "execution_count": null,
   "metadata": {
    "scrolled": true
   },
   "outputs": [],
   "source": [
    "%%timeit\n",
    "#string ops\n",
    "(twit_df\n",
    " .with_columns(pl.col('tweet_text').apply(lambda val: val.startswith('@')).alias('is_reply'))\n",
    ")"
   ]
  },
  {
   "cell_type": "code",
   "execution_count": null,
   "metadata": {
    "scrolled": true
   },
   "outputs": [],
   "source": [
    "print(dir(pl.col('*').dt))"
   ]
  },
  {
   "cell_type": "code",
   "execution_count": null,
   "metadata": {
    "lines_to_next_cell": 0,
    "scrolled": true
   },
   "outputs": [],
   "source": [
    "def tweak_twitter_lazy(df):\n",
    "    return (df\n",
    "     .lazy()\n",
    "     .select(pl.col(['Tweet id', 'Tweet permalink', 'Tweet text', 'time', \n",
    "                     'impressions', 'engagements', 'engagement rate', 'retweets', \n",
    "                     'replies', 'likes', 'user profile clicks', 'url clicks', \n",
    "                     'hashtag clicks', 'detail expands', 'app opens', 'follows', \n",
    "                     'media views', 'media engagements']))  \n",
    "     .select(pl.all().map_alias(lambda name: name.lower().replace(' ', '_')))            \n",
    "     .with_columns([\n",
    "         pl.col(['replies', 'hashtag_clicks', 'app_opens', \n",
    "                 'follows'])\n",
    "           .cast(pl.UInt8),\n",
    "         pl.col(['engagements', 'retweets', 'likes', 'user_profile_clicks', \n",
    "                 'url_clicks',  'detail_expands', 'media_views', 'media_engagements'])\n",
    "           .cast(pl.UInt16),\n",
    "         pl.col('impressions').cast(pl.UInt32),\n",
    "         pl.col('time').str.split('+').arr.get(0)\n",
    "            .str.strptime(pl.Datetime, '%Y-%m-%d %H:%M:%S')\n",
    "            .dt.replace_time_zone('UTC').dt.convert_time_zone('America/Denver'),\n",
    "          pl.col('tweet_text').str.starts_with('@').alias('is_reply'),\n",
    "         pl.col('tweet_text').str.lengths().alias('length'),\n",
    "         pl.col('tweet_text').str.split(' ').alias('num_words').arr.lengths(), # apply(lambda vals: len(vals)),\n",
    "         pl.col('tweet_text').alias('at_tweet').str.contains('@'),\n",
    "         pl.col('tweet_text').alias('has_newlines').str.contains('\\n'),\n",
    "         pl.col('tweet_text').alias('num_lines').str.count_match('\\n'),\n",
    "         pl.col('tweet_text').alias('num_mentions').str.count_match('@'),\n",
    "         pl.col('tweet_text').alias('has_hashtags').str.contains('#'),\n",
    "     ])      \n",
    "    .with_columns([\n",
    "         pl.col('time').dt.hour().alias('hour'),\n",
    "         pl.col('time').dt.day().alias('dom'),\n",
    "         pl.col('time').dt.weekday().alias('dow'),\n",
    "     ])            \n",
    "     .collect()\n",
    "    )\n",
    "\n",
    "# doesn't work with URL\n",
    "tweak_twitter_lazy(df)"
   ]
  },
  {
   "cell_type": "code",
   "execution_count": null,
   "metadata": {},
   "outputs": [],
   "source": []
  },
  {
   "cell_type": "markdown",
   "metadata": {},
   "source": [
    "## Apply Exercise\n",
    "* Calculate engagement ratio by dividing *engagements* by *impressions*\n",
    "* Calculate engagement ratio 2 by dividing the sum of *replies*, *retweets*, *likes*, *user_profile_clicks*, and *detail_expands* by *impressions*"
   ]
  },
  {
   "cell_type": "code",
   "execution_count": null,
   "metadata": {},
   "outputs": [],
   "source": []
  },
  {
   "cell_type": "code",
   "execution_count": null,
   "metadata": {},
   "outputs": [],
   "source": []
  },
  {
   "cell_type": "markdown",
   "metadata": {},
   "source": [
    "## Aggregation"
   ]
  },
  {
   "cell_type": "code",
   "execution_count": null,
   "metadata": {},
   "outputs": [],
   "source": [
    "(tweak_twitter_lazy(df)\n",
    " .groupby(pl.col('time').dt.year().alias('year'))\n",
    " .mean()\n",
    ")"
   ]
  },
  {
   "cell_type": "code",
   "execution_count": null,
   "metadata": {},
   "outputs": [],
   "source": [
    "(tweak_twitter_lazy(df)\n",
    " .with_row_count() # here row count is simulating index value\n",
    " .groupby(pl.col('time').dt.year().alias('year'))\n",
    " .agg([pl.col('impressions').mean(), pl.col('row_nr').first()])\n",
    ")"
   ]
  },
  {
   "cell_type": "code",
   "execution_count": null,
   "metadata": {},
   "outputs": [],
   "source": [
    "# Should parallelize these two mean aggregations\n",
    "(tweak_twitter_lazy(df)\n",
    " .groupby(pl.col('time').dt.year().alias('year'))\n",
    " .agg([pl.col('impressions').mean(),\n",
    "       pl.col('replies').mean(),\n",
    "      ])\n",
    ")"
   ]
  },
  {
   "cell_type": "code",
   "execution_count": null,
   "metadata": {
    "scrolled": true
   },
   "outputs": [],
   "source": [
    "# aggregate by multiple columns\n",
    "# not sorted because uses a hash join\n",
    "(tweak_twitter_lazy(df)\n",
    " .groupby([pl.col('time').dt.year().alias('year'),\n",
    "           pl.col('time').dt.month().alias('month')])\n",
    " .agg([pl.col('impressions').mean(),\n",
    "       pl.col('replies').mean(),\n",
    "      ])\n",
    ")"
   ]
  },
  {
   "cell_type": "code",
   "execution_count": null,
   "metadata": {
    "scrolled": true
   },
   "outputs": [],
   "source": [
    "# sort the result\n",
    "(tweak_twitter_lazy(df)\n",
    " .groupby([pl.col('time').dt.year().alias('year'),\n",
    "           pl.col('time').dt.month().alias('month')])\n",
    " .agg([pl.col('impressions').mean(),\n",
    "       pl.col('replies').mean(),\n",
    "      ])\n",
    " .sort(['year', 'month'])\n",
    ")"
   ]
  },
  {
   "cell_type": "code",
   "execution_count": null,
   "metadata": {
    "collapsed": true
   },
   "outputs": [],
   "source": [
    "# sort the result with .groupby( ... maintain_order=True)\n",
    "(tweak_twitter_lazy(df)\n",
    " .groupby([pl.col('time').dt.year().alias('year'),\n",
    "           pl.col('time').dt.month().alias('month')],\n",
    "         maintain_order=True)  # preferred to .sort\n",
    " .agg([pl.col('impressions').mean(),\n",
    "       pl.col('replies').mean(),\n",
    "      ])\n",
    " #.sort(['year', 'month'])\n",
    ")"
   ]
  },
  {
   "cell_type": "code",
   "execution_count": null,
   "metadata": {
    "collapsed": true
   },
   "outputs": [],
   "source": [
    "# note that if you sort a grouping column, polars has a fast-path \n",
    "# with .set_sorted()\n",
    "(tweak_twitter_lazy(df)\n",
    " .sort('time')\n",
    " .groupby([pl.col('time').dt.strftime('%Y-%m').set_sorted().alias('month')],\n",
    "          maintain_order=True\n",
    "         )\n",
    " .agg([pl.col('impressions').mean(),\n",
    "       pl.col('replies').mean(),\n",
    "      ])\n",
    ")"
   ]
  },
  {
   "cell_type": "code",
   "execution_count": null,
   "metadata": {},
   "outputs": [],
   "source": [
    "df.groupby_dynamic?"
   ]
  },
  {
   "cell_type": "code",
   "execution_count": null,
   "metadata": {
    "scrolled": false
   },
   "outputs": [],
   "source": [
    "(tweak_twitter_lazy(df)\n",
    " .groupby_dynamic(index_column='time', every='2mo')\n",
    " .agg([pl.col('impressions').mean(),\n",
    "       pl.col('replies').mean(),\n",
    "      ])\n",
    ")"
   ]
  },
  {
   "cell_type": "code",
   "execution_count": null,
   "metadata": {
    "scrolled": true
   },
   "outputs": [],
   "source": [
    "# Change frequency to every 2 weeks 3 days 5 hours\n",
    "(tweak_twitter_lazy(df)\n",
    " .groupby_dynamic(index_column='time', every='2w3d5h')\n",
    " .agg([pl.col('impressions').mean(),\n",
    "       pl.col('replies').mean(),\n",
    "      ])\n",
    ")"
   ]
  },
  {
   "cell_type": "code",
   "execution_count": null,
   "metadata": {
    "scrolled": false
   },
   "outputs": [],
   "source": [
    "# plot - use pandas\n",
    "# polars doesn't want to do plotting\n",
    "(tweak_twitter_lazy(df)\n",
    " .groupby_dynamic(index_column='time', every='2mo')\n",
    " .agg([pl.col('impressions').mean(),\n",
    "       pl.col('replies').mean(),\n",
    "      ])\n",
    " .to_pandas()\n",
    " .set_index('time')\n",
    " .plot()\n",
    ")"
   ]
  },
  {
   "cell_type": "code",
   "execution_count": null,
   "metadata": {
    "scrolled": false
   },
   "outputs": [],
   "source": [
    "# Change frequency to every 2 weeks\n",
    "(tweak_twitter_lazy(df)\n",
    " .groupby_dynamic(index_column='time', every='2w')\n",
    " .agg([pl.col('impressions').mean(),\n",
    "       pl.col('replies').mean(),\n",
    "      ])\n",
    " .to_pandas()\n",
    " .set_index('time')\n",
    " .plot()\n",
    ")"
   ]
  },
  {
   "cell_type": "code",
   "execution_count": null,
   "metadata": {},
   "outputs": [],
   "source": [
    "help(df.pivot)"
   ]
  },
  {
   "cell_type": "code",
   "execution_count": null,
   "metadata": {
    "scrolled": true
   },
   "outputs": [],
   "source": [
    "# Can't use dynamic with pivot\n",
    "\n",
    "(tweak_twitter_lazy(df)\n",
    " .with_columns([pl.col('time').dt.strftime('%Y-%m').alias('month'),\n",
    "                pl.col('replies').cast(pl.UInt32),\n",
    "               ])\n",
    " .pivot(index='month', values=['impressions', 'replies'], \n",
    "        columns='is_reply', aggregate_function='mean')\n",
    "    )"
   ]
  },
  {
   "cell_type": "code",
   "execution_count": null,
   "metadata": {
    "scrolled": true
   },
   "outputs": [],
   "source": [
    "(tweak_twitter_lazy(df)\n",
    " .with_columns(pl.col('time').dt.strftime('%Y-%m').alias('month'))\n",
    " .pivot(index='month', #values=['impressions', 'replies'], \n",
    "        values='impressions',\n",
    "        columns='is_reply', aggregate_function='mean')\n",
    "    )"
   ]
  },
  {
   "cell_type": "code",
   "execution_count": null,
   "metadata": {
    "collapsed": true
   },
   "outputs": [],
   "source": [
    "(tweak_twitter_lazy(df)\n",
    " .with_columns(pl.col('time').dt.strftime('%Y-%m').alias('month'))\n",
    " .pivot(index='month', values=['impressions', 'replies'], \n",
    "        columns='is_reply', aggregate_function='mean')\n",
    "    )"
   ]
  },
  {
   "cell_type": "code",
   "execution_count": null,
   "metadata": {
    "scrolled": false
   },
   "outputs": [],
   "source": [
    "(tweak_twitter_lazy(df)\n",
    " .with_columns([pl.col('time').dt.strftime('%Y-%m').alias('month'),\n",
    "               ])\n",
    " .pivot(index='month', values=['impressions', 'replies'], \n",
    "        columns='is_reply', separator='*', aggregate_function='mean')\n",
    " .to_pandas()\n",
    " .set_index('month')\n",
    " .plot()\n",
    ")"
   ]
  },
  {
   "cell_type": "markdown",
   "metadata": {},
   "source": [
    "## Aggregation Exercise\n",
    "* What were the total impressions for each year?\n",
    "* What were the total impressions for each month?\n",
    "* Plot the previous\n",
    "* What were the total impressions for reply and non-reply tweets for each month?\n",
    "* Plot the previous"
   ]
  },
  {
   "cell_type": "code",
   "execution_count": null,
   "metadata": {},
   "outputs": [],
   "source": []
  },
  {
   "cell_type": "markdown",
   "metadata": {},
   "source": [
    "## Summary\n",
    "\n",
    "* Correct types save space and enable convenient math, string, and date functionality\n",
    "* Chaining operations will:\n",
    "   * Make code readable\n",
    "   * Remove bugs\n",
    "   * Easier to debug\n",
    "* Embrace chaining.\n",
    "* Lambdas/Comprehensions will slow you down.\n",
    "* Aggregations are powerful. Play with them until they make sense\n",
    "\n",
    "Connect with me on LinkedIn or Twitter (@\\_\\_mharrison\\_\\_)"
   ]
  },
  {
   "cell_type": "code",
   "execution_count": null,
   "metadata": {},
   "outputs": [],
   "source": []
  }
 ],
 "metadata": {
  "jupytext": {
   "formats": "ipynb,py:light"
  },
  "kernelspec": {
   "display_name": "Python 3 (ipykernel)",
   "language": "python",
   "name": "python3"
  },
  "language_info": {
   "codemirror_mode": {
    "name": "ipython",
    "version": 3
   },
   "file_extension": ".py",
   "mimetype": "text/x-python",
   "name": "python",
   "nbconvert_exporter": "python",
   "pygments_lexer": "ipython3",
   "version": "3.10.13"
  }
 },
 "nbformat": 4,
 "nbformat_minor": 4
}
